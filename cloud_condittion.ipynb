{
 "cells": [
  {
   "cell_type": "code",
   "execution_count": 1,
   "metadata": {},
   "outputs": [],
   "source": [
    "# Importing necessary libraries\n",
    "import pandas as pd\n",
    "import numpy as np\n",
    "import matplotlib.pyplot as plt"
   ]
  },
  {
   "cell_type": "code",
   "execution_count": 2,
   "metadata": {},
   "outputs": [
    {
     "name": "stderr",
     "output_type": "stream",
     "text": [
      "C:\\Users\\Soni Mrunali\\anaconda3\\lib\\site-packages\\IPython\\core\\interactiveshell.py:3071: DtypeWarning: Columns (3) have mixed types.Specify dtype option on import or set low_memory=False.\n",
      "  has_raised = await self.run_ast_nodes(code_ast.body, cell_name,\n"
     ]
    }
   ],
   "source": [
    "# Importing training dataset\n",
    "cloud_data = pd.read_csv(r'C:\\Users\\Soni Mrunali\\Desktop\\data_analytics\\Python\\imarticus_online_data\\Hackathon\\train_CloudCondition.csv',\n",
    "                          header=0,index_col=0)"
   ]
  },
  {
   "cell_type": "code",
   "execution_count": 3,
   "metadata": {},
   "outputs": [
    {
     "data": {
      "text/html": [
       "<div>\n",
       "<style scoped>\n",
       "    .dataframe tbody tr th:only-of-type {\n",
       "        vertical-align: middle;\n",
       "    }\n",
       "\n",
       "    .dataframe tbody tr th {\n",
       "        vertical-align: top;\n",
       "    }\n",
       "\n",
       "    .dataframe thead th {\n",
       "        text-align: right;\n",
       "    }\n",
       "</style>\n",
       "<table border=\"1\" class=\"dataframe\">\n",
       "  <thead>\n",
       "    <tr style=\"text-align: right;\">\n",
       "      <th></th>\n",
       "      <th>Cloud_Condition</th>\n",
       "      <th>Rain_OR_SNOW</th>\n",
       "      <th>Temperature (C)</th>\n",
       "      <th>Apparent Temperature (C)</th>\n",
       "      <th>Humidity</th>\n",
       "      <th>Wind Speed (km/h)</th>\n",
       "      <th>Wind Bearing (degrees)</th>\n",
       "      <th>Visibility (km)</th>\n",
       "      <th>Pressure (millibars)</th>\n",
       "      <th>Condensation</th>\n",
       "      <th>Solar irradiance intensity</th>\n",
       "    </tr>\n",
       "    <tr>\n",
       "      <th>Day</th>\n",
       "      <th></th>\n",
       "      <th></th>\n",
       "      <th></th>\n",
       "      <th></th>\n",
       "      <th></th>\n",
       "      <th></th>\n",
       "      <th></th>\n",
       "      <th></th>\n",
       "      <th></th>\n",
       "      <th></th>\n",
       "      <th></th>\n",
       "    </tr>\n",
       "  </thead>\n",
       "  <tbody>\n",
       "    <tr>\n",
       "      <th>1</th>\n",
       "      <td>Partly Cloudy</td>\n",
       "      <td>rain</td>\n",
       "      <td>-13</td>\n",
       "      <td>-19.0</td>\n",
       "      <td>0.134364</td>\n",
       "      <td>17.0</td>\n",
       "      <td>68.0</td>\n",
       "      <td>4.0</td>\n",
       "      <td>1008.0</td>\n",
       "      <td>Frost</td>\n",
       "      <td>1068</td>\n",
       "    </tr>\n",
       "    <tr>\n",
       "      <th>2</th>\n",
       "      <td>Partly Cloudy</td>\n",
       "      <td>rain</td>\n",
       "      <td>15</td>\n",
       "      <td>5.0</td>\n",
       "      <td>0.847434</td>\n",
       "      <td>8.0</td>\n",
       "      <td>291.0</td>\n",
       "      <td>2.0</td>\n",
       "      <td>1036.0</td>\n",
       "      <td>Frost</td>\n",
       "      <td>1291</td>\n",
       "    </tr>\n",
       "    <tr>\n",
       "      <th>3</th>\n",
       "      <td>Partly Cloudy</td>\n",
       "      <td>rain</td>\n",
       "      <td>33</td>\n",
       "      <td>-12.0</td>\n",
       "      <td>0.763775</td>\n",
       "      <td>32.0</td>\n",
       "      <td>32.0</td>\n",
       "      <td>8.0</td>\n",
       "      <td>1004.0</td>\n",
       "      <td>Dry</td>\n",
       "      <td>1433</td>\n",
       "    </tr>\n",
       "    <tr>\n",
       "      <th>4</th>\n",
       "      <td>Partly Cloudy</td>\n",
       "      <td>snow</td>\n",
       "      <td>30</td>\n",
       "      <td>36.0</td>\n",
       "      <td>0.255069</td>\n",
       "      <td>15.0</td>\n",
       "      <td>130.0</td>\n",
       "      <td>3.0</td>\n",
       "      <td>1016.0</td>\n",
       "      <td>Dry</td>\n",
       "      <td>1410</td>\n",
       "    </tr>\n",
       "    <tr>\n",
       "      <th>5</th>\n",
       "      <td>Partly Cloudy</td>\n",
       "      <td>snow</td>\n",
       "      <td>27</td>\n",
       "      <td>30.0</td>\n",
       "      <td>0.495435</td>\n",
       "      <td>63.0</td>\n",
       "      <td>60.0</td>\n",
       "      <td>15.0</td>\n",
       "      <td>1007.0</td>\n",
       "      <td>Fog</td>\n",
       "      <td>1391</td>\n",
       "    </tr>\n",
       "  </tbody>\n",
       "</table>\n",
       "</div>"
      ],
      "text/plain": [
       "    Cloud_Condition Rain_OR_SNOW Temperature (C)  Apparent Temperature (C)  \\\n",
       "Day                                                                          \n",
       "1     Partly Cloudy         rain             -13                     -19.0   \n",
       "2     Partly Cloudy         rain              15                       5.0   \n",
       "3     Partly Cloudy         rain              33                     -12.0   \n",
       "4     Partly Cloudy         snow              30                      36.0   \n",
       "5     Partly Cloudy         snow              27                      30.0   \n",
       "\n",
       "     Humidity  Wind Speed (km/h)  Wind Bearing (degrees)  Visibility (km)  \\\n",
       "Day                                                                         \n",
       "1    0.134364               17.0                    68.0              4.0   \n",
       "2    0.847434                8.0                   291.0              2.0   \n",
       "3    0.763775               32.0                    32.0              8.0   \n",
       "4    0.255069               15.0                   130.0              3.0   \n",
       "5    0.495435               63.0                    60.0             15.0   \n",
       "\n",
       "     Pressure (millibars) Condensation  Solar irradiance intensity  \n",
       "Day                                                                 \n",
       "1                  1008.0        Frost                        1068  \n",
       "2                  1036.0        Frost                        1291  \n",
       "3                  1004.0          Dry                        1433  \n",
       "4                  1016.0          Dry                        1410  \n",
       "5                  1007.0          Fog                        1391  "
      ]
     },
     "execution_count": 3,
     "metadata": {},
     "output_type": "execute_result"
    }
   ],
   "source": [
    "cloud_data.head()"
   ]
  },
  {
   "cell_type": "code",
   "execution_count": 4,
   "metadata": {},
   "outputs": [
    {
     "name": "stdout",
     "output_type": "stream",
     "text": [
      "<class 'pandas.core.frame.DataFrame'>\n",
      "Int64Index: 71428 entries, 1 to 80000\n",
      "Data columns (total 11 columns):\n",
      " #   Column                      Non-Null Count  Dtype  \n",
      "---  ------                      --------------  -----  \n",
      " 0   Cloud_Condition             71428 non-null  object \n",
      " 1   Rain_OR_SNOW                71313 non-null  object \n",
      " 2   Temperature (C)             71176 non-null  object \n",
      " 3   Apparent Temperature (C)    71425 non-null  float64\n",
      " 4   Humidity                    71427 non-null  float64\n",
      " 5   Wind Speed (km/h)           71426 non-null  float64\n",
      " 6   Wind Bearing (degrees)      71391 non-null  float64\n",
      " 7   Visibility (km)             71408 non-null  float64\n",
      " 8   Pressure (millibars)        71363 non-null  float64\n",
      " 9   Condensation                71428 non-null  object \n",
      " 10  Solar irradiance intensity  71428 non-null  int64  \n",
      "dtypes: float64(6), int64(1), object(4)\n",
      "memory usage: 6.5+ MB\n"
     ]
    }
   ],
   "source": [
    "cloud_data.info()"
   ]
  },
  {
   "cell_type": "code",
   "execution_count": 5,
   "metadata": {},
   "outputs": [
    {
     "data": {
      "text/html": [
       "<div>\n",
       "<style scoped>\n",
       "    .dataframe tbody tr th:only-of-type {\n",
       "        vertical-align: middle;\n",
       "    }\n",
       "\n",
       "    .dataframe tbody tr th {\n",
       "        vertical-align: top;\n",
       "    }\n",
       "\n",
       "    .dataframe thead th {\n",
       "        text-align: right;\n",
       "    }\n",
       "</style>\n",
       "<table border=\"1\" class=\"dataframe\">\n",
       "  <thead>\n",
       "    <tr style=\"text-align: right;\">\n",
       "      <th></th>\n",
       "      <th>Apparent Temperature (C)</th>\n",
       "      <th>Humidity</th>\n",
       "      <th>Wind Speed (km/h)</th>\n",
       "      <th>Wind Bearing (degrees)</th>\n",
       "      <th>Visibility (km)</th>\n",
       "      <th>Pressure (millibars)</th>\n",
       "      <th>Solar irradiance intensity</th>\n",
       "    </tr>\n",
       "  </thead>\n",
       "  <tbody>\n",
       "    <tr>\n",
       "      <th>count</th>\n",
       "      <td>71425.000000</td>\n",
       "      <td>71427.000000</td>\n",
       "      <td>71426.000000</td>\n",
       "      <td>71391.000000</td>\n",
       "      <td>71408.000000</td>\n",
       "      <td>71363.000000</td>\n",
       "      <td>71428.000000</td>\n",
       "    </tr>\n",
       "    <tr>\n",
       "      <th>mean</th>\n",
       "      <td>5.550606</td>\n",
       "      <td>0.501020</td>\n",
       "      <td>31.525831</td>\n",
       "      <td>179.221793</td>\n",
       "      <td>8.014606</td>\n",
       "      <td>1022.980606</td>\n",
       "      <td>1249.736546</td>\n",
       "    </tr>\n",
       "    <tr>\n",
       "      <th>std</th>\n",
       "      <td>19.093822</td>\n",
       "      <td>0.289431</td>\n",
       "      <td>18.507098</td>\n",
       "      <td>103.729210</td>\n",
       "      <td>4.907893</td>\n",
       "      <td>13.559828</td>\n",
       "      <td>144.828721</td>\n",
       "    </tr>\n",
       "    <tr>\n",
       "      <th>min</th>\n",
       "      <td>-27.000000</td>\n",
       "      <td>0.000019</td>\n",
       "      <td>0.000000</td>\n",
       "      <td>0.000000</td>\n",
       "      <td>0.000000</td>\n",
       "      <td>1000.000000</td>\n",
       "      <td>1000.000000</td>\n",
       "    </tr>\n",
       "    <tr>\n",
       "      <th>25%</th>\n",
       "      <td>-11.000000</td>\n",
       "      <td>0.249233</td>\n",
       "      <td>16.000000</td>\n",
       "      <td>89.000000</td>\n",
       "      <td>4.000000</td>\n",
       "      <td>1011.000000</td>\n",
       "      <td>1124.000000</td>\n",
       "    </tr>\n",
       "    <tr>\n",
       "      <th>50%</th>\n",
       "      <td>5.000000</td>\n",
       "      <td>0.501461</td>\n",
       "      <td>31.000000</td>\n",
       "      <td>180.000000</td>\n",
       "      <td>8.000000</td>\n",
       "      <td>1023.000000</td>\n",
       "      <td>1249.000000</td>\n",
       "    </tr>\n",
       "    <tr>\n",
       "      <th>75%</th>\n",
       "      <td>22.000000</td>\n",
       "      <td>0.751978</td>\n",
       "      <td>48.000000</td>\n",
       "      <td>269.000000</td>\n",
       "      <td>12.000000</td>\n",
       "      <td>1035.000000</td>\n",
       "      <td>1375.000000</td>\n",
       "    </tr>\n",
       "    <tr>\n",
       "      <th>max</th>\n",
       "      <td>38.000000</td>\n",
       "      <td>0.999990</td>\n",
       "      <td>63.000000</td>\n",
       "      <td>359.000000</td>\n",
       "      <td>16.000000</td>\n",
       "      <td>1046.000000</td>\n",
       "      <td>1500.000000</td>\n",
       "    </tr>\n",
       "  </tbody>\n",
       "</table>\n",
       "</div>"
      ],
      "text/plain": [
       "       Apparent Temperature (C)      Humidity  Wind Speed (km/h)  \\\n",
       "count              71425.000000  71427.000000       71426.000000   \n",
       "mean                   5.550606      0.501020          31.525831   \n",
       "std                   19.093822      0.289431          18.507098   \n",
       "min                  -27.000000      0.000019           0.000000   \n",
       "25%                  -11.000000      0.249233          16.000000   \n",
       "50%                    5.000000      0.501461          31.000000   \n",
       "75%                   22.000000      0.751978          48.000000   \n",
       "max                   38.000000      0.999990          63.000000   \n",
       "\n",
       "       Wind Bearing (degrees)  Visibility (km)  Pressure (millibars)  \\\n",
       "count            71391.000000     71408.000000          71363.000000   \n",
       "mean               179.221793         8.014606           1022.980606   \n",
       "std                103.729210         4.907893             13.559828   \n",
       "min                  0.000000         0.000000           1000.000000   \n",
       "25%                 89.000000         4.000000           1011.000000   \n",
       "50%                180.000000         8.000000           1023.000000   \n",
       "75%                269.000000        12.000000           1035.000000   \n",
       "max                359.000000        16.000000           1046.000000   \n",
       "\n",
       "       Solar irradiance intensity  \n",
       "count                71428.000000  \n",
       "mean                  1249.736546  \n",
       "std                    144.828721  \n",
       "min                   1000.000000  \n",
       "25%                   1124.000000  \n",
       "50%                   1249.000000  \n",
       "75%                   1375.000000  \n",
       "max                   1500.000000  "
      ]
     },
     "execution_count": 5,
     "metadata": {},
     "output_type": "execute_result"
    }
   ],
   "source": [
    "cloud_data.describe()"
   ]
  },
  {
   "cell_type": "code",
   "execution_count": 6,
   "metadata": {},
   "outputs": [
    {
     "data": {
      "text/plain": [
       "Cloud_Condition                 0\n",
       "Rain_OR_SNOW                  115\n",
       "Temperature (C)               252\n",
       "Apparent Temperature (C)        3\n",
       "Humidity                        1\n",
       "Wind Speed (km/h)               2\n",
       "Wind Bearing (degrees)         37\n",
       "Visibility (km)                20\n",
       "Pressure (millibars)           65\n",
       "Condensation                    0\n",
       "Solar irradiance intensity      0\n",
       "dtype: int64"
      ]
     },
     "execution_count": 6,
     "metadata": {},
     "output_type": "execute_result"
    }
   ],
   "source": [
    "cloud_data.isnull().sum()"
   ]
  },
  {
   "cell_type": "code",
   "execution_count": 7,
   "metadata": {},
   "outputs": [
    {
     "data": {
      "text/plain": [
       "(71428, 11)"
      ]
     },
     "execution_count": 7,
     "metadata": {},
     "output_type": "execute_result"
    }
   ],
   "source": [
    "cloud_data.shape"
   ]
  },
  {
   "cell_type": "code",
   "execution_count": 8,
   "metadata": {},
   "outputs": [
    {
     "data": {
      "text/plain": [
       "array(['rain', 'snow', nan], dtype=object)"
      ]
     },
     "execution_count": 8,
     "metadata": {},
     "output_type": "execute_result"
    }
   ],
   "source": [
    "cloud_data.Rain_OR_SNOW.unique()"
   ]
  },
  {
   "cell_type": "code",
   "execution_count": 9,
   "metadata": {},
   "outputs": [
    {
     "data": {
      "text/plain": [
       "rain    62316\n",
       "snow     8997\n",
       "Name: Rain_OR_SNOW, dtype: int64"
      ]
     },
     "execution_count": 9,
     "metadata": {},
     "output_type": "execute_result"
    }
   ],
   "source": [
    "cloud_data.Rain_OR_SNOW.value_counts()"
   ]
  },
  {
   "cell_type": "code",
   "execution_count": 10,
   "metadata": {},
   "outputs": [
    {
     "data": {
      "text/plain": [
       "array(['-13', '15', '33', '30', '27', '-17', '-5', '-14', '10', '7', '9',\n",
       "       '20', '3', '29', '-8', '-15', '-20', '36', '32', '6', '17', '28',\n",
       "       '-21', '23', '-4', '25', '-7', '16', '39', '-1', '13', '35', '22',\n",
       "       '12', '14', '1', '8', '-3', '38', '5', '37', '-10', '19', '34',\n",
       "       '26', '0', '24', '11', '21', '-9', '-2', '4', '-19', '-6', '2',\n",
       "       '-16', '-11', '18', '31', '-18', '-12', nan, '-', 16, 30, 17, -13,\n",
       "       36, 4, 9, 10, 13, 27, -8, -16, 34, 2, -11, -9, -10, -5, 39, 14, 7,\n",
       "       20, -3, 15, 24, 35, 25, -12, 26, -14, 19, 5, 38, -4, -17, 0, 8, 21,\n",
       "       -20, -21, 37, 22, 11, 28, 12, -18, 29, 1, -2, -7, -6, 33, 3, 32,\n",
       "       -1, 6, -15, 18, 23, 31, -19], dtype=object)"
      ]
     },
     "execution_count": 10,
     "metadata": {},
     "output_type": "execute_result"
    }
   ],
   "source": [
    "cloud_data['Temperature (C)'].unique()"
   ]
  },
  {
   "cell_type": "code",
   "execution_count": 11,
   "metadata": {},
   "outputs": [],
   "source": [
    "cloud_data['Temperature (C)'] = cloud_data['Temperature (C)'].replace(['-'],np.nan)"
   ]
  },
  {
   "cell_type": "code",
   "execution_count": null,
   "metadata": {},
   "outputs": [],
   "source": []
  },
  {
   "cell_type": "code",
   "execution_count": 12,
   "metadata": {},
   "outputs": [],
   "source": [
    "for x in cloud_data.columns:\n",
    "    if cloud_data[x].dtype=='object':\n",
    "        cloud_data[x].fillna(cloud_data[x].mode()[0],inplace=True)\n",
    "    elif cloud_data[x].dtype=='float64':\n",
    "        cloud_data[x].fillna(cloud_data[x].median(),inplace=True)"
   ]
  },
  {
   "cell_type": "code",
   "execution_count": 13,
   "metadata": {},
   "outputs": [
    {
     "data": {
      "text/plain": [
       "Cloud_Condition               0\n",
       "Rain_OR_SNOW                  0\n",
       "Temperature (C)               0\n",
       "Apparent Temperature (C)      0\n",
       "Humidity                      0\n",
       "Wind Speed (km/h)             0\n",
       "Wind Bearing (degrees)        0\n",
       "Visibility (km)               0\n",
       "Pressure (millibars)          0\n",
       "Condensation                  0\n",
       "Solar irradiance intensity    0\n",
       "dtype: int64"
      ]
     },
     "execution_count": 13,
     "metadata": {},
     "output_type": "execute_result"
    }
   ],
   "source": [
    "cloud_data.isnull().sum()"
   ]
  },
  {
   "cell_type": "code",
   "execution_count": 14,
   "metadata": {},
   "outputs": [],
   "source": [
    "cloud_data['Temperature (C)'] = cloud_data['Temperature (C)'].astype(int)"
   ]
  },
  {
   "cell_type": "code",
   "execution_count": 15,
   "metadata": {},
   "outputs": [
    {
     "name": "stdout",
     "output_type": "stream",
     "text": [
      "<class 'pandas.core.frame.DataFrame'>\n",
      "Int64Index: 71428 entries, 1 to 80000\n",
      "Data columns (total 11 columns):\n",
      " #   Column                      Non-Null Count  Dtype  \n",
      "---  ------                      --------------  -----  \n",
      " 0   Cloud_Condition             71428 non-null  object \n",
      " 1   Rain_OR_SNOW                71428 non-null  object \n",
      " 2   Temperature (C)             71428 non-null  int32  \n",
      " 3   Apparent Temperature (C)    71428 non-null  float64\n",
      " 4   Humidity                    71428 non-null  float64\n",
      " 5   Wind Speed (km/h)           71428 non-null  float64\n",
      " 6   Wind Bearing (degrees)      71428 non-null  float64\n",
      " 7   Visibility (km)             71428 non-null  float64\n",
      " 8   Pressure (millibars)        71428 non-null  float64\n",
      " 9   Condensation                71428 non-null  object \n",
      " 10  Solar irradiance intensity  71428 non-null  int64  \n",
      "dtypes: float64(6), int32(1), int64(1), object(3)\n",
      "memory usage: 6.3+ MB\n"
     ]
    }
   ],
   "source": [
    "cloud_data.info()"
   ]
  },
  {
   "cell_type": "code",
   "execution_count": 16,
   "metadata": {},
   "outputs": [
    {
     "data": {
      "text/plain": [
       "['Cloud_Condition', 'Rain_OR_SNOW', 'Condensation']"
      ]
     },
     "execution_count": 16,
     "metadata": {},
     "output_type": "execute_result"
    }
   ],
   "source": [
    "colname = ['Cloud_Condition','Rain_OR_SNOW',\n",
    "           'Condensation']\n",
    "colname"
   ]
  },
  {
   "cell_type": "code",
   "execution_count": 17,
   "metadata": {},
   "outputs": [],
   "source": [
    "# For processing the data\n",
    "from sklearn import preprocessing\n",
    "le = preprocessing.LabelEncoder()\n",
    "for x in colname:\n",
    "    cloud_data[x] = le.fit_transform(cloud_data[x])"
   ]
  },
  {
   "cell_type": "code",
   "execution_count": 18,
   "metadata": {},
   "outputs": [
    {
     "data": {
      "text/html": [
       "<div>\n",
       "<style scoped>\n",
       "    .dataframe tbody tr th:only-of-type {\n",
       "        vertical-align: middle;\n",
       "    }\n",
       "\n",
       "    .dataframe tbody tr th {\n",
       "        vertical-align: top;\n",
       "    }\n",
       "\n",
       "    .dataframe thead th {\n",
       "        text-align: right;\n",
       "    }\n",
       "</style>\n",
       "<table border=\"1\" class=\"dataframe\">\n",
       "  <thead>\n",
       "    <tr style=\"text-align: right;\">\n",
       "      <th></th>\n",
       "      <th>Cloud_Condition</th>\n",
       "      <th>Rain_OR_SNOW</th>\n",
       "      <th>Temperature (C)</th>\n",
       "      <th>Apparent Temperature (C)</th>\n",
       "      <th>Humidity</th>\n",
       "      <th>Wind Speed (km/h)</th>\n",
       "      <th>Wind Bearing (degrees)</th>\n",
       "      <th>Visibility (km)</th>\n",
       "      <th>Pressure (millibars)</th>\n",
       "      <th>Condensation</th>\n",
       "      <th>Solar irradiance intensity</th>\n",
       "    </tr>\n",
       "    <tr>\n",
       "      <th>Day</th>\n",
       "      <th></th>\n",
       "      <th></th>\n",
       "      <th></th>\n",
       "      <th></th>\n",
       "      <th></th>\n",
       "      <th></th>\n",
       "      <th></th>\n",
       "      <th></th>\n",
       "      <th></th>\n",
       "      <th></th>\n",
       "      <th></th>\n",
       "    </tr>\n",
       "  </thead>\n",
       "  <tbody>\n",
       "    <tr>\n",
       "      <th>1</th>\n",
       "      <td>19</td>\n",
       "      <td>0</td>\n",
       "      <td>-13</td>\n",
       "      <td>-19.0</td>\n",
       "      <td>0.134364</td>\n",
       "      <td>17.0</td>\n",
       "      <td>68.0</td>\n",
       "      <td>4.0</td>\n",
       "      <td>1008.0</td>\n",
       "      <td>2</td>\n",
       "      <td>1068</td>\n",
       "    </tr>\n",
       "    <tr>\n",
       "      <th>2</th>\n",
       "      <td>19</td>\n",
       "      <td>0</td>\n",
       "      <td>15</td>\n",
       "      <td>5.0</td>\n",
       "      <td>0.847434</td>\n",
       "      <td>8.0</td>\n",
       "      <td>291.0</td>\n",
       "      <td>2.0</td>\n",
       "      <td>1036.0</td>\n",
       "      <td>2</td>\n",
       "      <td>1291</td>\n",
       "    </tr>\n",
       "    <tr>\n",
       "      <th>3</th>\n",
       "      <td>19</td>\n",
       "      <td>0</td>\n",
       "      <td>33</td>\n",
       "      <td>-12.0</td>\n",
       "      <td>0.763775</td>\n",
       "      <td>32.0</td>\n",
       "      <td>32.0</td>\n",
       "      <td>8.0</td>\n",
       "      <td>1004.0</td>\n",
       "      <td>0</td>\n",
       "      <td>1433</td>\n",
       "    </tr>\n",
       "    <tr>\n",
       "      <th>4</th>\n",
       "      <td>19</td>\n",
       "      <td>1</td>\n",
       "      <td>30</td>\n",
       "      <td>36.0</td>\n",
       "      <td>0.255069</td>\n",
       "      <td>15.0</td>\n",
       "      <td>130.0</td>\n",
       "      <td>3.0</td>\n",
       "      <td>1016.0</td>\n",
       "      <td>0</td>\n",
       "      <td>1410</td>\n",
       "    </tr>\n",
       "    <tr>\n",
       "      <th>5</th>\n",
       "      <td>19</td>\n",
       "      <td>1</td>\n",
       "      <td>27</td>\n",
       "      <td>30.0</td>\n",
       "      <td>0.495435</td>\n",
       "      <td>63.0</td>\n",
       "      <td>60.0</td>\n",
       "      <td>15.0</td>\n",
       "      <td>1007.0</td>\n",
       "      <td>1</td>\n",
       "      <td>1391</td>\n",
       "    </tr>\n",
       "  </tbody>\n",
       "</table>\n",
       "</div>"
      ],
      "text/plain": [
       "     Cloud_Condition  Rain_OR_SNOW  Temperature (C)  Apparent Temperature (C)  \\\n",
       "Day                                                                             \n",
       "1                 19             0              -13                     -19.0   \n",
       "2                 19             0               15                       5.0   \n",
       "3                 19             0               33                     -12.0   \n",
       "4                 19             1               30                      36.0   \n",
       "5                 19             1               27                      30.0   \n",
       "\n",
       "     Humidity  Wind Speed (km/h)  Wind Bearing (degrees)  Visibility (km)  \\\n",
       "Day                                                                         \n",
       "1    0.134364               17.0                    68.0              4.0   \n",
       "2    0.847434                8.0                   291.0              2.0   \n",
       "3    0.763775               32.0                    32.0              8.0   \n",
       "4    0.255069               15.0                   130.0              3.0   \n",
       "5    0.495435               63.0                    60.0             15.0   \n",
       "\n",
       "     Pressure (millibars)  Condensation  Solar irradiance intensity  \n",
       "Day                                                                  \n",
       "1                  1008.0             2                        1068  \n",
       "2                  1036.0             2                        1291  \n",
       "3                  1004.0             0                        1433  \n",
       "4                  1016.0             0                        1410  \n",
       "5                  1007.0             1                        1391  "
      ]
     },
     "execution_count": 18,
     "metadata": {},
     "output_type": "execute_result"
    }
   ],
   "source": [
    "cloud_data.head()"
   ]
  },
  {
   "cell_type": "code",
   "execution_count": 19,
   "metadata": {},
   "outputs": [
    {
     "data": {
      "text/plain": [
       "array([19, 16,  1, 18, 12,  3,  6,  5,  4, 13, 17, 15, 22, 24,  2, 25,  0,\n",
       "       11, 23,  7,  9, 20, 14,  8, 21, 10])"
      ]
     },
     "execution_count": 19,
     "metadata": {},
     "output_type": "execute_result"
    }
   ],
   "source": [
    "cloud_data.Cloud_Condition.unique()"
   ]
  },
  {
   "cell_type": "code",
   "execution_count": 20,
   "metadata": {},
   "outputs": [],
   "source": [
    "cloud_data = cloud_data[['Rain_OR_SNOW','Temperature (C)','Apparent Temperature (C)',\n",
    "                        'Humidity','Wind Speed (km/h)','Wind Bearing (degrees)',\n",
    "                        'Visibility (km)','Pressure (millibars)','Condensation',\n",
    "                        'Solar irradiance intensity','Cloud_Condition']]"
   ]
  },
  {
   "cell_type": "code",
   "execution_count": 21,
   "metadata": {},
   "outputs": [
    {
     "data": {
      "text/html": [
       "<div>\n",
       "<style scoped>\n",
       "    .dataframe tbody tr th:only-of-type {\n",
       "        vertical-align: middle;\n",
       "    }\n",
       "\n",
       "    .dataframe tbody tr th {\n",
       "        vertical-align: top;\n",
       "    }\n",
       "\n",
       "    .dataframe thead th {\n",
       "        text-align: right;\n",
       "    }\n",
       "</style>\n",
       "<table border=\"1\" class=\"dataframe\">\n",
       "  <thead>\n",
       "    <tr style=\"text-align: right;\">\n",
       "      <th></th>\n",
       "      <th>Rain_OR_SNOW</th>\n",
       "      <th>Temperature (C)</th>\n",
       "      <th>Apparent Temperature (C)</th>\n",
       "      <th>Humidity</th>\n",
       "      <th>Wind Speed (km/h)</th>\n",
       "      <th>Wind Bearing (degrees)</th>\n",
       "      <th>Visibility (km)</th>\n",
       "      <th>Pressure (millibars)</th>\n",
       "      <th>Condensation</th>\n",
       "      <th>Solar irradiance intensity</th>\n",
       "      <th>Cloud_Condition</th>\n",
       "    </tr>\n",
       "    <tr>\n",
       "      <th>Day</th>\n",
       "      <th></th>\n",
       "      <th></th>\n",
       "      <th></th>\n",
       "      <th></th>\n",
       "      <th></th>\n",
       "      <th></th>\n",
       "      <th></th>\n",
       "      <th></th>\n",
       "      <th></th>\n",
       "      <th></th>\n",
       "      <th></th>\n",
       "    </tr>\n",
       "  </thead>\n",
       "  <tbody>\n",
       "    <tr>\n",
       "      <th>1</th>\n",
       "      <td>0</td>\n",
       "      <td>-13</td>\n",
       "      <td>-19.0</td>\n",
       "      <td>0.134364</td>\n",
       "      <td>17.0</td>\n",
       "      <td>68.0</td>\n",
       "      <td>4.0</td>\n",
       "      <td>1008.0</td>\n",
       "      <td>2</td>\n",
       "      <td>1068</td>\n",
       "      <td>19</td>\n",
       "    </tr>\n",
       "    <tr>\n",
       "      <th>2</th>\n",
       "      <td>0</td>\n",
       "      <td>15</td>\n",
       "      <td>5.0</td>\n",
       "      <td>0.847434</td>\n",
       "      <td>8.0</td>\n",
       "      <td>291.0</td>\n",
       "      <td>2.0</td>\n",
       "      <td>1036.0</td>\n",
       "      <td>2</td>\n",
       "      <td>1291</td>\n",
       "      <td>19</td>\n",
       "    </tr>\n",
       "    <tr>\n",
       "      <th>3</th>\n",
       "      <td>0</td>\n",
       "      <td>33</td>\n",
       "      <td>-12.0</td>\n",
       "      <td>0.763775</td>\n",
       "      <td>32.0</td>\n",
       "      <td>32.0</td>\n",
       "      <td>8.0</td>\n",
       "      <td>1004.0</td>\n",
       "      <td>0</td>\n",
       "      <td>1433</td>\n",
       "      <td>19</td>\n",
       "    </tr>\n",
       "    <tr>\n",
       "      <th>4</th>\n",
       "      <td>1</td>\n",
       "      <td>30</td>\n",
       "      <td>36.0</td>\n",
       "      <td>0.255069</td>\n",
       "      <td>15.0</td>\n",
       "      <td>130.0</td>\n",
       "      <td>3.0</td>\n",
       "      <td>1016.0</td>\n",
       "      <td>0</td>\n",
       "      <td>1410</td>\n",
       "      <td>19</td>\n",
       "    </tr>\n",
       "    <tr>\n",
       "      <th>5</th>\n",
       "      <td>1</td>\n",
       "      <td>27</td>\n",
       "      <td>30.0</td>\n",
       "      <td>0.495435</td>\n",
       "      <td>63.0</td>\n",
       "      <td>60.0</td>\n",
       "      <td>15.0</td>\n",
       "      <td>1007.0</td>\n",
       "      <td>1</td>\n",
       "      <td>1391</td>\n",
       "      <td>19</td>\n",
       "    </tr>\n",
       "  </tbody>\n",
       "</table>\n",
       "</div>"
      ],
      "text/plain": [
       "     Rain_OR_SNOW  Temperature (C)  Apparent Temperature (C)  Humidity  \\\n",
       "Day                                                                      \n",
       "1               0              -13                     -19.0  0.134364   \n",
       "2               0               15                       5.0  0.847434   \n",
       "3               0               33                     -12.0  0.763775   \n",
       "4               1               30                      36.0  0.255069   \n",
       "5               1               27                      30.0  0.495435   \n",
       "\n",
       "     Wind Speed (km/h)  Wind Bearing (degrees)  Visibility (km)  \\\n",
       "Day                                                               \n",
       "1                 17.0                    68.0              4.0   \n",
       "2                  8.0                   291.0              2.0   \n",
       "3                 32.0                    32.0              8.0   \n",
       "4                 15.0                   130.0              3.0   \n",
       "5                 63.0                    60.0             15.0   \n",
       "\n",
       "     Pressure (millibars)  Condensation  Solar irradiance intensity  \\\n",
       "Day                                                                   \n",
       "1                  1008.0             2                        1068   \n",
       "2                  1036.0             2                        1291   \n",
       "3                  1004.0             0                        1433   \n",
       "4                  1016.0             0                        1410   \n",
       "5                  1007.0             1                        1391   \n",
       "\n",
       "     Cloud_Condition  \n",
       "Day                   \n",
       "1                 19  \n",
       "2                 19  \n",
       "3                 19  \n",
       "4                 19  \n",
       "5                 19  "
      ]
     },
     "execution_count": 21,
     "metadata": {},
     "output_type": "execute_result"
    }
   ],
   "source": [
    "cloud_data.head()"
   ]
  },
  {
   "cell_type": "code",
   "execution_count": 22,
   "metadata": {},
   "outputs": [],
   "source": [
    "x = cloud_data.values[:,:-1]\n",
    "y = cloud_data.values[:,-1]"
   ]
  },
  {
   "cell_type": "code",
   "execution_count": 23,
   "metadata": {},
   "outputs": [
    {
     "data": {
      "text/plain": [
       "(71428, 10)"
      ]
     },
     "execution_count": 23,
     "metadata": {},
     "output_type": "execute_result"
    }
   ],
   "source": [
    "x.shape"
   ]
  },
  {
   "cell_type": "code",
   "execution_count": 24,
   "metadata": {},
   "outputs": [
    {
     "data": {
      "text/plain": [
       "(71428,)"
      ]
     },
     "execution_count": 24,
     "metadata": {},
     "output_type": "execute_result"
    }
   ],
   "source": [
    "y.shape"
   ]
  },
  {
   "cell_type": "code",
   "execution_count": 27,
   "metadata": {},
   "outputs": [
    {
     "name": "stdout",
     "output_type": "stream",
     "text": [
      "[[-3.79619676e-01 -1.24740128e+00 -1.28582265e+00 ... -1.10529054e+00\n",
      "   3.49339568e-01 -1.25484653e+00]\n",
      " [-3.79619676e-01  3.43672243e-01 -2.88364372e-02 ...  9.60587053e-01\n",
      "   3.49339568e-01  2.84914088e-01]\n",
      " [-3.79619676e-01  1.36650522e+00 -9.19201673e-01 ... -1.40041591e+00\n",
      "  -1.44639478e+00  1.26538946e+00]\n",
      " ...\n",
      " [-3.79619676e-01  1.08238495e+00 -1.44294593e+00 ...  6.65461683e-01\n",
      "   3.49339568e-01  1.47253214e+00]\n",
      " [-3.79619676e-01 -1.41787344e+00 -4.47831842e-01 ... -2.93695772e-01\n",
      "  -5.48527608e-01  8.72384249e-03]\n",
      " [-3.79619676e-01 -1.36104939e+00  1.28286840e-01 ...  1.42959873e-03\n",
      "  -5.48527608e-01  5.70571354e-02]]\n"
     ]
    }
   ],
   "source": [
    "from sklearn.preprocessing import StandardScaler\n",
    "\n",
    "scaler = StandardScaler()\n",
    "scaler.fit(x)\n",
    "x = scaler.transform(x)\n",
    "print(x)"
   ]
  },
  {
   "cell_type": "code",
   "execution_count": 28,
   "metadata": {},
   "outputs": [
    {
     "data": {
      "text/plain": [
       "Rain_OR_SNOW                    int32\n",
       "Temperature (C)                 int32\n",
       "Apparent Temperature (C)      float64\n",
       "Humidity                      float64\n",
       "Wind Speed (km/h)             float64\n",
       "Wind Bearing (degrees)        float64\n",
       "Visibility (km)               float64\n",
       "Pressure (millibars)          float64\n",
       "Condensation                    int32\n",
       "Solar irradiance intensity      int64\n",
       "Cloud_Condition                 int32\n",
       "dtype: object"
      ]
     },
     "execution_count": 28,
     "metadata": {},
     "output_type": "execute_result"
    }
   ],
   "source": [
    "cloud_data.dtypes"
   ]
  },
  {
   "cell_type": "code",
   "execution_count": 29,
   "metadata": {},
   "outputs": [],
   "source": [
    "from sklearn.model_selection import train_test_split\n",
    "#Split the data into test and train\n",
    "x_train, x_test, y_train, y_test = train_test_split(x,y,test_size = 0.3,\n",
    "                                                   random_state = 10)"
   ]
  },
  {
   "cell_type": "markdown",
   "metadata": {},
   "source": [
    "# SVM"
   ]
  },
  {
   "cell_type": "code",
   "execution_count": 30,
   "metadata": {},
   "outputs": [],
   "source": [
    "from sklearn import svm\n",
    "svc_model=svm.SVC(kernel='rbf',C=1.0,gamma=0.1)\n",
    "svc_model.fit(x_train, y_train)\n",
    "y_pred=svc_model.predict(x_test)"
   ]
  },
  {
   "cell_type": "code",
   "execution_count": 31,
   "metadata": {},
   "outputs": [
    {
     "name": "stdout",
     "output_type": "stream",
     "text": [
      "[[   0    0    0    0    0    0    0    0    0    0    0    2    0    0\n",
      "     0    5    0    0    0    0    0    0    0    0]\n",
      " [   0    0    0    0    0    0    0    0    0    0    0   10    0    0\n",
      "     0  182    2    2    0    0    0    0    0    0]\n",
      " [   0    0    0    0    0    0    0    0    0    0    0    1    0    0\n",
      "     0    1    1    0    0    0    0    0    0    0]\n",
      " [   0    0    0    0    0    0    0    0    0    0    0    9    0    0\n",
      "     0  149    1    0    0    0    0    0    0    0]\n",
      " [   0    0    0    0    0    0    0    0    0    0    0   11    0    0\n",
      "     0  102    4    3    0    0    0    0    0    0]\n",
      " [   0    0    0    0    0    0    0    0    0    0    0    2    0    0\n",
      "     0  107    0    0    0    0    0    0    0    0]\n",
      " [   0    0    0    0    0    0    0    0    0    0    0  295    0    0\n",
      "     0 2509   77   40    0    0    0    0    0    0]\n",
      " [   0    0    0    0    0    0    0    0    0    0    0    0    0    0\n",
      "     0    0    0    1    0    0    0    0    0    0]\n",
      " [   0    0    0    0    0    0    0    0    0    0    0    0    0    0\n",
      "     0    9    0    0    0    0    0    0    0    0]\n",
      " [   0    0    0    0    0    0    0    0    0    0    0    0    0    0\n",
      "     0    1    0    0    0    0    0    0    0    0]\n",
      " [   0    0    0    0    0    0    0    0    0    0    0    0    0    0\n",
      "     0   26    0    0    0    0    0    0    0    0]\n",
      " [   0    0    0    0    0    0    0    0    0    0    0  627    0    0\n",
      "     0  934  169   12    0    0    0    0    0    0]\n",
      " [   0    0    0    0    0    0    0    0    0    0    0    0    0    0\n",
      "     0   12    0    0    0    0    0    0    0    0]\n",
      " [   0    0    0    0    0    0    0    0    0    0    0    0    0    0\n",
      "     0    6    0    0    0    0    0    0    0    0]\n",
      " [   0    0    0    0    0    0    0    0    0    0    0   10    0    0\n",
      "     0   57    4    0    0    0    0    0    0    0]\n",
      " [   0    0    0    0    0    0    0    0    0    0    0  322    0    0\n",
      "     0 6069  109   70    0    0    0    0    0    0]\n",
      " [   0    0    0    0    0    0    0    0    0    0    0  605    0    0\n",
      "     0 3327  172   34    0    0    0    0    0    0]\n",
      " [   0    0    0    0    0    0    0    0    0    0    0  260    0    0\n",
      "     0 4934   53   51    0    0    0    0    0    0]\n",
      " [   0    0    0    0    0    0    0    0    0    0    0    0    0    0\n",
      "     0    3    0    0    0    0    0    0    0    0]\n",
      " [   0    0    0    0    0    0    0    0    0    0    0    0    0    0\n",
      "     0    1    0    0    0    0    0    0    0    0]\n",
      " [   0    0    0    0    0    0    0    0    0    0    0    0    0    0\n",
      "     0    1    0    0    0    0    0    0    0    0]\n",
      " [   0    0    0    0    0    0    0    0    0    0    0    0    0    0\n",
      "     0    5    0    0    0    0    0    0    0    0]\n",
      " [   0    0    0    0    0    0    0    0    0    0    0    0    0    0\n",
      "     0   10    0    0    0    0    0    0    0    0]\n",
      " [   0    0    0    0    0    0    0    0    0    0    0    0    0    0\n",
      "     0   20    0    0    0    0    0    0    0    0]]\n",
      "Classification report: \n",
      "              precision    recall  f1-score   support\n",
      "\n",
      "         0.0       0.00      0.00      0.00         7\n",
      "         1.0       0.00      0.00      0.00       196\n",
      "         2.0       0.00      0.00      0.00         3\n",
      "         3.0       0.00      0.00      0.00       159\n",
      "         4.0       0.00      0.00      0.00       120\n",
      "         5.0       0.00      0.00      0.00       109\n",
      "         6.0       0.00      0.00      0.00      2921\n",
      "         8.0       0.00      0.00      0.00         1\n",
      "         9.0       0.00      0.00      0.00         9\n",
      "        10.0       0.00      0.00      0.00         1\n",
      "        11.0       0.00      0.00      0.00        26\n",
      "        12.0       0.29      0.36      0.32      1742\n",
      "        13.0       0.00      0.00      0.00        12\n",
      "        15.0       0.00      0.00      0.00         6\n",
      "        16.0       0.00      0.00      0.00        71\n",
      "        17.0       0.33      0.92      0.48      6570\n",
      "        18.0       0.29      0.04      0.07      4138\n",
      "        19.0       0.24      0.01      0.02      5298\n",
      "        20.0       0.00      0.00      0.00         3\n",
      "        21.0       0.00      0.00      0.00         1\n",
      "        22.0       0.00      0.00      0.00         1\n",
      "        23.0       0.00      0.00      0.00         5\n",
      "        24.0       0.00      0.00      0.00        10\n",
      "        25.0       0.00      0.00      0.00        20\n",
      "\n",
      "    accuracy                           0.32     21429\n",
      "   macro avg       0.05      0.06      0.04     21429\n",
      "weighted avg       0.24      0.32      0.19     21429\n",
      "\n",
      "Accuracy of the model:  0.32288020906248543\n"
     ]
    },
    {
     "name": "stderr",
     "output_type": "stream",
     "text": [
      "C:\\Users\\Soni Mrunali\\anaconda3\\lib\\site-packages\\sklearn\\metrics\\_classification.py:1221: UndefinedMetricWarning: Precision and F-score are ill-defined and being set to 0.0 in labels with no predicted samples. Use `zero_division` parameter to control this behavior.\n",
      "  _warn_prf(average, modifier, msg_start, len(result))\n"
     ]
    }
   ],
   "source": [
    "from sklearn.metrics import confusion_matrix, accuracy_score, classification_report\n",
    "\n",
    "cfm=confusion_matrix(y_test,y_pred)\n",
    "print(cfm)\n",
    "\n",
    "print(\"Classification report: \")\n",
    "\n",
    "print(classification_report(y_test,y_pred))\n",
    "\n",
    "acc=accuracy_score(y_test, y_pred)\n",
    "print(\"Accuracy of the model: \",acc)\n"
   ]
  },
  {
   "cell_type": "markdown",
   "metadata": {},
   "source": [
    "# Decision Tree"
   ]
  },
  {
   "cell_type": "code",
   "execution_count": 32,
   "metadata": {},
   "outputs": [],
   "source": [
    "#predicting using the Decision_Tree_Classifier\n",
    "from sklearn.tree import DecisionTreeClassifier\n",
    "\n",
    "model_DecisionTree=DecisionTreeClassifier(random_state=10)\n",
    "\n",
    "#fit the model on the data and predict the values\n",
    "model_DecisionTree.fit(x_train,y_train)\n",
    "y_pred=model_DecisionTree.predict(x_test)"
   ]
  },
  {
   "cell_type": "code",
   "execution_count": 33,
   "metadata": {},
   "outputs": [
    {
     "name": "stdout",
     "output_type": "stream",
     "text": [
      "[[   0    0    0    0    0    0    5    0    0    0    0    0    0    0\n",
      "     0    0    0    1    1    0    0    0    0    0    0]\n",
      " [   0    2    0    2    1    1   23    0    0    0    1   15    0    0\n",
      "     0    1   66   34   50    0    0    0    0    0    0]\n",
      " [   0    0    0    0    0    0    0    0    0    0    0    1    0    0\n",
      "     0    0    0    2    0    0    0    0    0    0    0]\n",
      " [   0    2    0    1    2    3   30    0    0    0    0   13    0    0\n",
      "     0    0   48   22   37    0    0    0    0    1    0]\n",
      " [   1    1    0    1    4    1   18    0    0    0    0    6    0    0\n",
      "     0    0   42   24   22    0    0    0    0    0    0]\n",
      " [   0    0    0    0    0    0   22    0    0    0    0    3    0    0\n",
      "     0    0   31   21   32    0    0    0    0    0    0]\n",
      " [   3   37    2   17   20   13  433    0    0    1    7  252    0    0\n",
      "     1    6  834  602  683    0    0    0    4    1    5]\n",
      " [   0    0    0    0    0    0    0    0    0    0    0    0    0    0\n",
      "     0    0    1    0    0    0    0    0    0    0    0]\n",
      " [   0    0    0    0    0    0    0    0    0    0    0    0    0    0\n",
      "     0    0    2    5    2    0    0    0    0    0    0]\n",
      " [   0    0    0    0    0    0    0    0    0    0    0    0    0    0\n",
      "     0    0    1    0    0    0    0    0    0    0    0]\n",
      " [   0    0    0    0    0    0    3    0    0    0    0    1    0    0\n",
      "     0    0    9    4    8    0    0    0    0    0    1]\n",
      " [   4   13    2    5   13    4  222    0    0    1    1  279    0    0\n",
      "     1    1  473  407  314    0    0    1    0    1    0]\n",
      " [   0    0    0    0    0    0    1    0    0    0    1    1    0    0\n",
      "     0    1    5    2    1    0    0    0    0    0    0]\n",
      " [   0    0    0    0    0    0    0    0    0    0    0    0    0    0\n",
      "     0    0    0    0    0    0    0    0    0    0    0]\n",
      " [   0    0    0    0    0    0    1    0    0    0    0    0    0    0\n",
      "     0    0    1    2    2    0    0    0    0    0    0]\n",
      " [   0    2    0    0    3    0   13    0    0    0    0    5    0    0\n",
      "     0    0   27   12    9    0    0    0    0    0    0]\n",
      " [   6   73    5   42   43   29  935    2    4    2   10  456    2    0\n",
      "     1   14 2021 1262 1642    0    0    0    5   11    5]\n",
      " [   3   34    7   29   32   32  586    1    2    2    5  408    1    1\n",
      "     1   15 1197  839  936    0    0    0    1    3    3]\n",
      " [   4   53    2   48   29   30  752    0    5    2   10  374    0    1\n",
      "     1   10 1626  982 1346    1    0    0    6    5   11]\n",
      " [   0    0    0    0    0    0    1    0    0    0    0    0    0    0\n",
      "     0    0    0    1    1    0    0    0    0    0    0]\n",
      " [   0    0    0    0    0    0    0    0    0    0    0    0    0    0\n",
      "     0    0    1    0    0    0    0    0    0    0    0]\n",
      " [   0    0    0    0    0    0    0    0    0    0    0    0    0    0\n",
      "     0    0    1    0    0    0    0    0    0    0    0]\n",
      " [   0    0    0    0    0    0    0    0    0    0    0    0    0    0\n",
      "     0    0    3    1    1    0    0    0    0    0    0]\n",
      " [   0    0    0    0    0    0    0    0    0    0    0    0    0    0\n",
      "     0    0    2    6    2    0    0    0    0    0    0]\n",
      " [   0    0    0    0    1    0    2    0    0    0    0    1    0    0\n",
      "     0    0    8    2    6    0    0    0    0    0    0]]\n",
      "Classification report: \n",
      "              precision    recall  f1-score   support\n",
      "\n",
      "         0.0       0.00      0.00      0.00         7\n",
      "         1.0       0.01      0.01      0.01       196\n",
      "         2.0       0.00      0.00      0.00         3\n",
      "         3.0       0.01      0.01      0.01       159\n",
      "         4.0       0.03      0.03      0.03       120\n",
      "         5.0       0.00      0.00      0.00       109\n",
      "         6.0       0.14      0.15      0.15      2921\n",
      "         8.0       0.00      0.00      0.00         1\n",
      "         9.0       0.00      0.00      0.00         9\n",
      "        10.0       0.00      0.00      0.00         1\n",
      "        11.0       0.00      0.00      0.00        26\n",
      "        12.0       0.15      0.16      0.16      1742\n",
      "        13.0       0.00      0.00      0.00        12\n",
      "        14.0       0.00      0.00      0.00         0\n",
      "        15.0       0.00      0.00      0.00         6\n",
      "        16.0       0.00      0.00      0.00        71\n",
      "        17.0       0.32      0.31      0.31      6570\n",
      "        18.0       0.20      0.20      0.20      4138\n",
      "        19.0       0.26      0.25      0.26      5298\n",
      "        20.0       0.00      0.00      0.00         3\n",
      "        21.0       0.00      0.00      0.00         1\n",
      "        22.0       0.00      0.00      0.00         1\n",
      "        23.0       0.00      0.00      0.00         5\n",
      "        24.0       0.00      0.00      0.00        10\n",
      "        25.0       0.00      0.00      0.00        20\n",
      "\n",
      "    accuracy                           0.23     21429\n",
      "   macro avg       0.04      0.04      0.04     21429\n",
      "weighted avg       0.23      0.23      0.23     21429\n",
      "\n",
      "Accuracy of the model:  0.22982873675859816\n"
     ]
    },
    {
     "name": "stderr",
     "output_type": "stream",
     "text": [
      "C:\\Users\\Soni Mrunali\\anaconda3\\lib\\site-packages\\sklearn\\metrics\\_classification.py:1221: UndefinedMetricWarning: Precision and F-score are ill-defined and being set to 0.0 in labels with no predicted samples. Use `zero_division` parameter to control this behavior.\n",
      "  _warn_prf(average, modifier, msg_start, len(result))\n",
      "C:\\Users\\Soni Mrunali\\anaconda3\\lib\\site-packages\\sklearn\\metrics\\_classification.py:1221: UndefinedMetricWarning: Recall and F-score are ill-defined and being set to 0.0 in labels with no true samples. Use `zero_division` parameter to control this behavior.\n",
      "  _warn_prf(average, modifier, msg_start, len(result))\n"
     ]
    }
   ],
   "source": [
    "from sklearn.metrics import confusion_matrix, accuracy_score, classification_report\n",
    "\n",
    "cfm=confusion_matrix(y_test,y_pred)\n",
    "print(cfm)\n",
    "\n",
    "print(\"Classification report: \")\n",
    "\n",
    "print(classification_report(y_test,y_pred))\n",
    "\n",
    "acc=accuracy_score(y_test, y_pred)\n",
    "print(\"Accuracy of the model: \",acc)\n"
   ]
  },
  {
   "cell_type": "markdown",
   "metadata": {},
   "source": [
    "# Random Forest"
   ]
  },
  {
   "cell_type": "code",
   "execution_count": 34,
   "metadata": {},
   "outputs": [],
   "source": [
    "#predicting using the Random_Forest_Classifier\n",
    "from sklearn.ensemble import RandomForestClassifier\n",
    "\n",
    "model_RandomForest=RandomForestClassifier(n_estimators=100,random_state=10)\n",
    "\n",
    "#fit the model on the data and predict the values\n",
    "model_RandomForest.fit(x_train,y_train)\n",
    "\n",
    "y_pred=model_RandomForest.predict(x_test)\n"
   ]
  },
  {
   "cell_type": "code",
   "execution_count": 35,
   "metadata": {},
   "outputs": [
    {
     "name": "stdout",
     "output_type": "stream",
     "text": [
      "[[   0    0    0    0    0    0    0    0    0    0    0    1    0    0\n",
      "     0    2    1    3    0    0    0    0    0    0]\n",
      " [   0    0    0    0    0    0    0    0    0    0    0    8    0    0\n",
      "     0  131    6   51    0    0    0    0    0    0]\n",
      " [   0    0    0    0    0    0    0    0    0    0    0    1    0    0\n",
      "     0    0    1    1    0    0    0    0    0    0]\n",
      " [   0    0    0    0    0    0    1    0    0    0    0    9    0    0\n",
      "     0   98    6   45    0    0    0    0    0    0]\n",
      " [   0    0    0    0    0    0    0    0    0    0    0    8    0    0\n",
      "     0   79    7   26    0    0    0    0    0    0]\n",
      " [   0    0    0    0    0    0    1    0    0    0    0    1    0    0\n",
      "     0   81    7   19    0    0    0    0    0    0]\n",
      " [   0    0    0    0    0    0   32    0    0    0    0  230    0    0\n",
      "     0 1784  211  664    0    0    0    0    0    0]\n",
      " [   0    0    0    0    0    0    0    0    0    0    0    0    0    0\n",
      "     0    0    0    1    0    0    0    0    0    0]\n",
      " [   0    0    0    0    0    0    0    0    0    0    0    0    0    0\n",
      "     0    5    1    3    0    0    0    0    0    0]\n",
      " [   0    0    0    0    0    0    0    0    0    0    0    0    0    0\n",
      "     0    1    0    0    0    0    0    0    0    0]\n",
      " [   0    0    0    0    0    0    0    0    0    0    0    0    0    0\n",
      "     0   16    0   10    0    0    0    0    0    0]\n",
      " [   0    0    0    0    0    0   30    0    0    0    0  460    0    0\n",
      "     0  719  290  243    0    0    0    0    0    0]\n",
      " [   0    0    0    0    0    0    0    0    0    0    0    0    0    0\n",
      "     0   10    1    1    0    0    0    0    0    0]\n",
      " [   0    0    0    0    0    0    0    0    0    0    0    0    0    0\n",
      "     0    3    0    3    0    0    0    0    0    0]\n",
      " [   0    0    0    0    0    0    1    0    0    0    0    7    0    0\n",
      "     0   38    8   17    0    0    0    0    0    0]\n",
      " [   0    0    0    0    0    0   75    0    0    0    0  257    0    0\n",
      "     0 4336  353 1549    0    0    0    0    0    0]\n",
      " [   0    0    0    0    0    0   48    0    0    0    0  466    0    0\n",
      "     0 2421  379  824    0    0    0    0    0    0]\n",
      " [   0    0    0    0    0    0   58    0    0    0    0  208    0    0\n",
      "     0 3509  240 1283    0    0    0    0    0    0]\n",
      " [   0    0    0    0    0    0    0    0    0    0    0    0    0    0\n",
      "     0    3    0    0    0    0    0    0    0    0]\n",
      " [   0    0    0    0    0    0    0    0    0    0    0    0    0    0\n",
      "     0    0    0    1    0    0    0    0    0    0]\n",
      " [   0    0    0    0    0    0    0    0    0    0    0    0    0    0\n",
      "     0    1    0    0    0    0    0    0    0    0]\n",
      " [   0    0    0    0    0    0    0    0    0    0    0    0    0    0\n",
      "     0    3    0    2    0    0    0    0    0    0]\n",
      " [   0    0    0    0    0    0    0    0    0    0    0    0    0    0\n",
      "     0    8    0    2    0    0    0    0    0    0]\n",
      " [   0    0    0    0    0    0    0    0    0    0    0    0    0    0\n",
      "     0   15    0    5    0    0    0    0    0    0]]\n",
      "Classification report: \n",
      "              precision    recall  f1-score   support\n",
      "\n",
      "         0.0       0.00      0.00      0.00         7\n",
      "         1.0       0.00      0.00      0.00       196\n",
      "         2.0       0.00      0.00      0.00         3\n",
      "         3.0       0.00      0.00      0.00       159\n",
      "         4.0       0.00      0.00      0.00       120\n",
      "         5.0       0.00      0.00      0.00       109\n",
      "         6.0       0.13      0.01      0.02      2921\n",
      "         8.0       0.00      0.00      0.00         1\n",
      "         9.0       0.00      0.00      0.00         9\n",
      "        10.0       0.00      0.00      0.00         1\n",
      "        11.0       0.00      0.00      0.00        26\n",
      "        12.0       0.28      0.26      0.27      1742\n",
      "        13.0       0.00      0.00      0.00        12\n",
      "        15.0       0.00      0.00      0.00         6\n",
      "        16.0       0.00      0.00      0.00        71\n",
      "        17.0       0.33      0.66      0.44      6570\n",
      "        18.0       0.25      0.09      0.13      4138\n",
      "        19.0       0.27      0.24      0.26      5298\n",
      "        20.0       0.00      0.00      0.00         3\n",
      "        21.0       0.00      0.00      0.00         1\n",
      "        22.0       0.00      0.00      0.00         1\n",
      "        23.0       0.00      0.00      0.00         5\n",
      "        24.0       0.00      0.00      0.00        10\n",
      "        25.0       0.00      0.00      0.00        20\n",
      "\n",
      "    accuracy                           0.30     21429\n",
      "   macro avg       0.05      0.05      0.05     21429\n",
      "weighted avg       0.26      0.30      0.25     21429\n",
      "\n",
      "Accuracy of the model:  0.30286060945447757\n"
     ]
    },
    {
     "name": "stderr",
     "output_type": "stream",
     "text": [
      "C:\\Users\\Soni Mrunali\\anaconda3\\lib\\site-packages\\sklearn\\metrics\\_classification.py:1221: UndefinedMetricWarning: Precision and F-score are ill-defined and being set to 0.0 in labels with no predicted samples. Use `zero_division` parameter to control this behavior.\n",
      "  _warn_prf(average, modifier, msg_start, len(result))\n"
     ]
    }
   ],
   "source": [
    "from sklearn.metrics import confusion_matrix, accuracy_score,\\\n",
    "classification_report\n",
    "\n",
    "cfm=confusion_matrix(y_test,y_pred)\n",
    "print(cfm)\n",
    "\n",
    "print(\"Classification report: \")\n",
    "\n",
    "print(classification_report(y_test,y_pred))\n",
    "\n",
    "acc=accuracy_score(y_test, y_pred)\n",
    "print(\"Accuracy of the model: \",acc)\n"
   ]
  },
  {
   "cell_type": "markdown",
   "metadata": {},
   "source": [
    "# Upsampling"
   ]
  },
  {
   "cell_type": "code",
   "execution_count": 36,
   "metadata": {
    "scrolled": true
   },
   "outputs": [
    {
     "data": {
      "text/plain": [
       "17    22017\n",
       "19    17613\n",
       "18    13612\n",
       "6      9719\n",
       "12     5900\n",
       "1       656\n",
       "3       473\n",
       "4       454\n",
       "5       350\n",
       "16      214\n",
       "11       86\n",
       "25       63\n",
       "0        45\n",
       "24       43\n",
       "9        34\n",
       "2        34\n",
       "13       32\n",
       "23       32\n",
       "15       17\n",
       "10       14\n",
       "14        5\n",
       "8         5\n",
       "20        5\n",
       "22        3\n",
       "7         1\n",
       "21        1\n",
       "Name: Cloud_Condition, dtype: int64"
      ]
     },
     "execution_count": 36,
     "metadata": {},
     "output_type": "execute_result"
    }
   ],
   "source": [
    "cloud_data.Cloud_Condition.value_counts()"
   ]
  },
  {
   "cell_type": "markdown",
   "metadata": {},
   "source": [
    "# Handling Imbalanced Dataset"
   ]
  },
  {
   "cell_type": "code",
   "execution_count": 64,
   "metadata": {
    "scrolled": true
   },
   "outputs": [
    {
     "data": {
      "text/plain": [
       "19    22017\n",
       "17    22017\n",
       "Name: Cloud_Condition, dtype: int64"
      ]
     },
     "execution_count": 64,
     "metadata": {},
     "output_type": "execute_result"
    }
   ],
   "source": [
    "from sklearn.utils import resample\n",
    "\n",
    "# Separate majority and minority classes\n",
    "\n",
    "df_majority = cloud_data[cloud_data.Cloud_Condition==17]\n",
    "df_minority = cloud_data[(cloud_data.Cloud_Condition==19)]\n",
    "\n",
    "# Upsample minority class\n",
    "df_minority_upsampled = resample(df_minority,  ## on data we have to sample         \n",
    "                                replace=True, # sample with replacement reandomly  \n",
    "                                n_samples=22017, # to match majority class        \n",
    "                                random_state=10) # reproducible results\n",
    "\n",
    "# Combine majority class with upsampled minority class\n",
    "df_upsampled1 = pd.concat([df_majority, df_minority_upsampled])\n",
    "\n",
    "# Display new class counts\n",
    "df_upsampled1.Cloud_Condition.value_counts()"
   ]
  },
  {
   "cell_type": "code",
   "execution_count": 65,
   "metadata": {},
   "outputs": [
    {
     "data": {
      "text/plain": [
       "18    22017\n",
       "19    17613\n",
       "Name: Cloud_Condition, dtype: int64"
      ]
     },
     "execution_count": 65,
     "metadata": {},
     "output_type": "execute_result"
    }
   ],
   "source": [
    "# Separate majority and minority classes\n",
    "\n",
    "df_majority = cloud_data[cloud_data.Cloud_Condition==19]\n",
    "df_minority = cloud_data[(cloud_data.Cloud_Condition==18)]\n",
    "\n",
    "# Upsample minority class\n",
    "df_minority_upsampled = resample(df_minority,  ## on data we have to sample         \n",
    "                                replace=True, # sample with replacement reandomly  \n",
    "                                n_samples=22017, # to match majority class        \n",
    "                                random_state=10) # reproducible results\n",
    "\n",
    "# Combine majority class with upsampled minority class\n",
    "df_upsampled2 = pd.concat([df_majority, df_minority_upsampled])\n",
    "\n",
    "# Display new class counts\n",
    "df_upsampled2.Cloud_Condition.value_counts()"
   ]
  },
  {
   "cell_type": "code",
   "execution_count": 66,
   "metadata": {},
   "outputs": [
    {
     "data": {
      "text/plain": [
       "6     22017\n",
       "18    13612\n",
       "Name: Cloud_Condition, dtype: int64"
      ]
     },
     "execution_count": 66,
     "metadata": {},
     "output_type": "execute_result"
    }
   ],
   "source": [
    "# Separate majority and minority classes\n",
    "\n",
    "df_majority = cloud_data[cloud_data.Cloud_Condition==18]\n",
    "df_minority = cloud_data[(cloud_data.Cloud_Condition==6)]\n",
    "\n",
    "# Upsample minority class\n",
    "df_minority_upsampled = resample(df_minority,  ## on data we have to sample         \n",
    "                                replace=True, # sample with replacement reandomly  \n",
    "                                n_samples=22017, # to match majority class        \n",
    "                                random_state=10) # reproducible results\n",
    "\n",
    "# Combine majority class with upsampled minority class\n",
    "df_upsampled3 = pd.concat([df_majority, df_minority_upsampled])\n",
    "\n",
    "# Display new class counts\n",
    "df_upsampled3.Cloud_Condition.value_counts()"
   ]
  },
  {
   "cell_type": "code",
   "execution_count": 67,
   "metadata": {},
   "outputs": [
    {
     "data": {
      "text/plain": [
       "12    22017\n",
       "6      9719\n",
       "Name: Cloud_Condition, dtype: int64"
      ]
     },
     "execution_count": 67,
     "metadata": {},
     "output_type": "execute_result"
    }
   ],
   "source": [
    "# Separate majority and minority classes\n",
    "\n",
    "df_majority = cloud_data[cloud_data.Cloud_Condition==6]\n",
    "df_minority = cloud_data[(cloud_data.Cloud_Condition==12)]\n",
    "\n",
    "# Upsample minority class\n",
    "df_minority_upsampled = resample(df_minority,  ## on data we have to sample         \n",
    "                                replace=True, # sample with replacement reandomly  \n",
    "                                n_samples=22017, # to match majority class        \n",
    "                                random_state=10) # reproducible results\n",
    "\n",
    "# Combine majority class with upsampled minority class\n",
    "df_upsampled4 = pd.concat([df_majority, df_minority_upsampled])\n",
    "\n",
    "# Display new class counts\n",
    "df_upsampled4.Cloud_Condition.value_counts()"
   ]
  },
  {
   "cell_type": "code",
   "execution_count": 68,
   "metadata": {},
   "outputs": [
    {
     "data": {
      "text/plain": [
       "1     22017\n",
       "12     5900\n",
       "Name: Cloud_Condition, dtype: int64"
      ]
     },
     "execution_count": 68,
     "metadata": {},
     "output_type": "execute_result"
    }
   ],
   "source": [
    "# Separate majority and minority classes\n",
    "\n",
    "df_majority = cloud_data[cloud_data.Cloud_Condition==12]\n",
    "df_minority = cloud_data[(cloud_data.Cloud_Condition==1)]\n",
    "\n",
    "# Upsample minority class\n",
    "df_minority_upsampled = resample(df_minority,  ## on data we have to sample         \n",
    "                                replace=True, # sample with replacement reandomly  \n",
    "                                n_samples=22017, # to match majority class        \n",
    "                                random_state=10) # reproducible results\n",
    "\n",
    "# Combine majority class with upsampled minority class\n",
    "df_upsampled5 = pd.concat([df_majority, df_minority_upsampled])\n",
    "\n",
    "# Display new class counts\n",
    "df_upsampled5.Cloud_Condition.value_counts()"
   ]
  },
  {
   "cell_type": "code",
   "execution_count": 69,
   "metadata": {},
   "outputs": [
    {
     "data": {
      "text/plain": [
       "3    22017\n",
       "1      656\n",
       "Name: Cloud_Condition, dtype: int64"
      ]
     },
     "execution_count": 69,
     "metadata": {},
     "output_type": "execute_result"
    }
   ],
   "source": [
    "# Separate majority and minority classes\n",
    "\n",
    "df_majority = cloud_data[cloud_data.Cloud_Condition==1]\n",
    "df_minority = cloud_data[(cloud_data.Cloud_Condition==3)]\n",
    "\n",
    "# Upsample minority class\n",
    "df_minority_upsampled = resample(df_minority,  ## on data we have to sample         \n",
    "                                replace=True, # sample with replacement reandomly  \n",
    "                                n_samples=22017, # to match majority class        \n",
    "                                random_state=10) # reproducible results\n",
    "\n",
    "# Combine majority class with upsampled minority class\n",
    "df_upsampled6 = pd.concat([df_majority, df_minority_upsampled])\n",
    "\n",
    "# Display new class counts\n",
    "df_upsampled6.Cloud_Condition.value_counts()"
   ]
  },
  {
   "cell_type": "code",
   "execution_count": 70,
   "metadata": {},
   "outputs": [
    {
     "data": {
      "text/plain": [
       "4    22017\n",
       "3      473\n",
       "Name: Cloud_Condition, dtype: int64"
      ]
     },
     "execution_count": 70,
     "metadata": {},
     "output_type": "execute_result"
    }
   ],
   "source": [
    "# Separate majority and minority classes\n",
    "\n",
    "df_majority = cloud_data[cloud_data.Cloud_Condition==3]\n",
    "df_minority = cloud_data[(cloud_data.Cloud_Condition==4)]\n",
    "\n",
    "# Upsample minority class\n",
    "df_minority_upsampled = resample(df_minority,  ## on data we have to sample         \n",
    "                                replace=True, # sample with replacement reandomly  \n",
    "                                n_samples=22017, # to match majority class        \n",
    "                                random_state=10) # reproducible results\n",
    "\n",
    "# Combine majority class with upsampled minority class\n",
    "df_upsampled7 = pd.concat([df_majority, df_minority_upsampled])\n",
    "\n",
    "# Display new class counts\n",
    "df_upsampled7.Cloud_Condition.value_counts()"
   ]
  },
  {
   "cell_type": "code",
   "execution_count": 71,
   "metadata": {},
   "outputs": [
    {
     "data": {
      "text/plain": [
       "5    22017\n",
       "4      454\n",
       "Name: Cloud_Condition, dtype: int64"
      ]
     },
     "execution_count": 71,
     "metadata": {},
     "output_type": "execute_result"
    }
   ],
   "source": [
    "# Separate majority and minority classes\n",
    "\n",
    "df_majority = cloud_data[cloud_data.Cloud_Condition==4]\n",
    "df_minority = cloud_data[(cloud_data.Cloud_Condition==5)]\n",
    "\n",
    "# Upsample minority class\n",
    "df_minority_upsampled = resample(df_minority,  ## on data we have to sample         \n",
    "                                replace=True, # sample with replacement reandomly  \n",
    "                                n_samples=22017, # to match majority class        \n",
    "                                random_state=10) # reproducible results\n",
    "\n",
    "# Combine majority class with upsampled minority class\n",
    "df_upsampled8 = pd.concat([df_majority, df_minority_upsampled])\n",
    "\n",
    "# Display new class counts\n",
    "df_upsampled8.Cloud_Condition.value_counts()"
   ]
  },
  {
   "cell_type": "code",
   "execution_count": 72,
   "metadata": {},
   "outputs": [
    {
     "data": {
      "text/plain": [
       "16    22017\n",
       "5       350\n",
       "Name: Cloud_Condition, dtype: int64"
      ]
     },
     "execution_count": 72,
     "metadata": {},
     "output_type": "execute_result"
    }
   ],
   "source": [
    "# Separate majority and minority classes\n",
    "\n",
    "df_majority = cloud_data[cloud_data.Cloud_Condition==5]\n",
    "df_minority = cloud_data[(cloud_data.Cloud_Condition==16)]\n",
    "\n",
    "# Upsample minority class\n",
    "df_minority_upsampled = resample(df_minority,  ## on data we have to sample         \n",
    "                                replace=True, # sample with replacement reandomly  \n",
    "                                n_samples=22017, # to match majority class        \n",
    "                                random_state=10) # reproducible results\n",
    "\n",
    "# Combine majority class with upsampled minority class\n",
    "df_upsampled9 = pd.concat([df_majority, df_minority_upsampled])\n",
    "\n",
    "# Display new class counts\n",
    "df_upsampled9.Cloud_Condition.value_counts()"
   ]
  },
  {
   "cell_type": "code",
   "execution_count": 73,
   "metadata": {},
   "outputs": [
    {
     "data": {
      "text/plain": [
       "11    22017\n",
       "16      214\n",
       "Name: Cloud_Condition, dtype: int64"
      ]
     },
     "execution_count": 73,
     "metadata": {},
     "output_type": "execute_result"
    }
   ],
   "source": [
    "# Separate majority and minority classes\n",
    "\n",
    "df_majority = cloud_data[cloud_data.Cloud_Condition==16]\n",
    "df_minority = cloud_data[(cloud_data.Cloud_Condition==11)]\n",
    "\n",
    "# Upsample minority class\n",
    "df_minority_upsampled = resample(df_minority,  ## on data we have to sample         \n",
    "                                replace=True, # sample with replacement reandomly  \n",
    "                                n_samples=22017, # to match majority class        \n",
    "                                random_state=10) # reproducible results\n",
    "\n",
    "# Combine majority class with upsampled minority class\n",
    "df_upsampled10 = pd.concat([df_majority, df_minority_upsampled])\n",
    "\n",
    "# Display new class counts\n",
    "df_upsampled10.Cloud_Condition.value_counts()"
   ]
  },
  {
   "cell_type": "code",
   "execution_count": 74,
   "metadata": {},
   "outputs": [
    {
     "data": {
      "text/plain": [
       "25    22017\n",
       "11       86\n",
       "Name: Cloud_Condition, dtype: int64"
      ]
     },
     "execution_count": 74,
     "metadata": {},
     "output_type": "execute_result"
    }
   ],
   "source": [
    "# Separate majority and minority classes\n",
    "\n",
    "df_majority = cloud_data[cloud_data.Cloud_Condition==11]\n",
    "df_minority = cloud_data[(cloud_data.Cloud_Condition==25)]\n",
    "\n",
    "# Upsample minority class\n",
    "df_minority_upsampled = resample(df_minority,  ## on data we have to sample         \n",
    "                                replace=True, # sample with replacement reandomly  \n",
    "                                n_samples=22017, # to match majority class        \n",
    "                                random_state=10) # reproducible results\n",
    "\n",
    "# Combine majority class with upsampled minority class\n",
    "df_upsampled11 = pd.concat([df_majority, df_minority_upsampled])\n",
    "\n",
    "# Display new class counts\n",
    "df_upsampled11.Cloud_Condition.value_counts()"
   ]
  },
  {
   "cell_type": "code",
   "execution_count": 75,
   "metadata": {},
   "outputs": [
    {
     "data": {
      "text/plain": [
       "0     22017\n",
       "25       63\n",
       "Name: Cloud_Condition, dtype: int64"
      ]
     },
     "execution_count": 75,
     "metadata": {},
     "output_type": "execute_result"
    }
   ],
   "source": [
    "# Separate majority and minority classes\n",
    "\n",
    "df_majority = cloud_data[cloud_data.Cloud_Condition==25]\n",
    "df_minority = cloud_data[(cloud_data.Cloud_Condition==0)]\n",
    "\n",
    "# Upsample minority class\n",
    "df_minority_upsampled = resample(df_minority,  ## on data we have to sample         \n",
    "                                replace=True, # sample with replacement reandomly  \n",
    "                                n_samples=22017, # to match majority class        \n",
    "                                random_state=10) # reproducible results\n",
    "\n",
    "# Combine majority class with upsampled minority class\n",
    "df_upsampled12 = pd.concat([df_majority, df_minority_upsampled])\n",
    "\n",
    "# Display new class counts\n",
    "df_upsampled12.Cloud_Condition.value_counts()"
   ]
  },
  {
   "cell_type": "code",
   "execution_count": 76,
   "metadata": {},
   "outputs": [
    {
     "data": {
      "text/plain": [
       "24    22017\n",
       "0        45\n",
       "Name: Cloud_Condition, dtype: int64"
      ]
     },
     "execution_count": 76,
     "metadata": {},
     "output_type": "execute_result"
    }
   ],
   "source": [
    "# Separate majority and minority classes\n",
    "\n",
    "df_majority = cloud_data[cloud_data.Cloud_Condition==0]\n",
    "df_minority = cloud_data[(cloud_data.Cloud_Condition==24)]\n",
    "\n",
    "# Upsample minority class\n",
    "df_minority_upsampled = resample(df_minority,  ## on data we have to sample         \n",
    "                                replace=True, # sample with replacement reandomly  \n",
    "                                n_samples=22017, # to match majority class        \n",
    "                                random_state=10) # reproducible results\n",
    "\n",
    "# Combine majority class with upsampled minority class\n",
    "df_upsampled13 = pd.concat([df_majority, df_minority_upsampled])\n",
    "\n",
    "# Display new class counts\n",
    "df_upsampled13.Cloud_Condition.value_counts()"
   ]
  },
  {
   "cell_type": "code",
   "execution_count": 90,
   "metadata": {},
   "outputs": [
    {
     "data": {
      "text/plain": [
       "9     22017\n",
       "24       43\n",
       "Name: Cloud_Condition, dtype: int64"
      ]
     },
     "execution_count": 90,
     "metadata": {},
     "output_type": "execute_result"
    }
   ],
   "source": [
    "# Separate majority and minority classes\n",
    "\n",
    "df_majority = cloud_data[cloud_data.Cloud_Condition==24]\n",
    "df_minority = cloud_data[(cloud_data.Cloud_Condition==9)]\n",
    "\n",
    "# Upsample minority class\n",
    "df_minority_upsampled = resample(df_minority,  ## on data we have to sample         \n",
    "                                replace=True, # sample with replacement reandomly  \n",
    "                                n_samples=22017, # to match majority class        \n",
    "                                random_state=10) # reproducible results\n",
    "\n",
    "# Combine majority class with upsampled minority class\n",
    "df_upsampled14 = pd.concat([df_majority, df_minority_upsampled])\n",
    "\n",
    "# Display new class counts\n",
    "df_upsampled14.Cloud_Condition.value_counts()"
   ]
  },
  {
   "cell_type": "code",
   "execution_count": 78,
   "metadata": {},
   "outputs": [
    {
     "data": {
      "text/plain": [
       "2    22017\n",
       "9       34\n",
       "Name: Cloud_Condition, dtype: int64"
      ]
     },
     "execution_count": 78,
     "metadata": {},
     "output_type": "execute_result"
    }
   ],
   "source": [
    "# Separate majority and minority classes\n",
    "\n",
    "df_majority = cloud_data[cloud_data.Cloud_Condition==9]\n",
    "df_minority = cloud_data[(cloud_data.Cloud_Condition==2)]\n",
    "\n",
    "# Upsample minority class\n",
    "df_minority_upsampled = resample(df_minority,  ## on data we have to sample         \n",
    "                                replace=True, # sample with replacement reandomly  \n",
    "                                n_samples=22017, # to match majority class        \n",
    "                                random_state=10) # reproducible results\n",
    "\n",
    "# Combine majority class with upsampled minority class\n",
    "df_upsampled15 = pd.concat([df_majority, df_minority_upsampled])\n",
    "\n",
    "# Display new class counts\n",
    "df_upsampled15.Cloud_Condition.value_counts()"
   ]
  },
  {
   "cell_type": "code",
   "execution_count": 79,
   "metadata": {},
   "outputs": [
    {
     "data": {
      "text/plain": [
       "13    22017\n",
       "2        34\n",
       "Name: Cloud_Condition, dtype: int64"
      ]
     },
     "execution_count": 79,
     "metadata": {},
     "output_type": "execute_result"
    }
   ],
   "source": [
    "# Separate majority and minority classes\n",
    "\n",
    "df_majority = cloud_data[cloud_data.Cloud_Condition==2]\n",
    "df_minority = cloud_data[(cloud_data.Cloud_Condition==13)]\n",
    "\n",
    "# Upsample minority class\n",
    "df_minority_upsampled = resample(df_minority,  ## on data we have to sample         \n",
    "                                replace=True, # sample with replacement reandomly  \n",
    "                                n_samples=22017, # to match majority class        \n",
    "                                random_state=10) # reproducible results\n",
    "\n",
    "# Combine majority class with upsampled minority class\n",
    "df_upsampled16 = pd.concat([df_majority, df_minority_upsampled])\n",
    "\n",
    "# Display new class counts\n",
    "df_upsampled16.Cloud_Condition.value_counts()"
   ]
  },
  {
   "cell_type": "code",
   "execution_count": 80,
   "metadata": {},
   "outputs": [
    {
     "data": {
      "text/plain": [
       "23    22017\n",
       "13       32\n",
       "Name: Cloud_Condition, dtype: int64"
      ]
     },
     "execution_count": 80,
     "metadata": {},
     "output_type": "execute_result"
    }
   ],
   "source": [
    "# Separate majority and minority classes\n",
    "\n",
    "df_majority = cloud_data[cloud_data.Cloud_Condition==13]\n",
    "df_minority = cloud_data[(cloud_data.Cloud_Condition==23)]\n",
    "\n",
    "# Upsample minority class\n",
    "df_minority_upsampled = resample(df_minority,  ## on data we have to sample         \n",
    "                                replace=True, # sample with replacement reandomly  \n",
    "                                n_samples=22017, # to match majority class        \n",
    "                                random_state=10) # reproducible results\n",
    "\n",
    "# Combine majority class with upsampled minority class\n",
    "df_upsampled17 = pd.concat([df_majority, df_minority_upsampled])\n",
    "\n",
    "# Display new class counts\n",
    "df_upsampled17.Cloud_Condition.value_counts()"
   ]
  },
  {
   "cell_type": "code",
   "execution_count": 81,
   "metadata": {},
   "outputs": [
    {
     "data": {
      "text/plain": [
       "15    22017\n",
       "23       32\n",
       "Name: Cloud_Condition, dtype: int64"
      ]
     },
     "execution_count": 81,
     "metadata": {},
     "output_type": "execute_result"
    }
   ],
   "source": [
    "# Separate majority and minority classes\n",
    "\n",
    "df_majority = cloud_data[cloud_data.Cloud_Condition==23]\n",
    "df_minority = cloud_data[(cloud_data.Cloud_Condition==15)]\n",
    "\n",
    "# Upsample minority class\n",
    "df_minority_upsampled = resample(df_minority,  ## on data we have to sample         \n",
    "                                replace=True, # sample with replacement reandomly  \n",
    "                                n_samples=22017, # to match majority class        \n",
    "                                random_state=10) # reproducible results\n",
    "\n",
    "# Combine majority class with upsampled minority class\n",
    "df_upsampled18 = pd.concat([df_majority, df_minority_upsampled])\n",
    "\n",
    "# Display new class counts\n",
    "df_upsampled18.Cloud_Condition.value_counts()"
   ]
  },
  {
   "cell_type": "code",
   "execution_count": 82,
   "metadata": {},
   "outputs": [
    {
     "data": {
      "text/plain": [
       "10    22017\n",
       "15       17\n",
       "Name: Cloud_Condition, dtype: int64"
      ]
     },
     "execution_count": 82,
     "metadata": {},
     "output_type": "execute_result"
    }
   ],
   "source": [
    "# Separate majority and minority classes\n",
    "\n",
    "df_majority = cloud_data[cloud_data.Cloud_Condition==15]\n",
    "df_minority = cloud_data[(cloud_data.Cloud_Condition==10)]\n",
    "\n",
    "# Upsample minority class\n",
    "df_minority_upsampled = resample(df_minority,  ## on data we have to sample         \n",
    "                                replace=True, # sample with replacement reandomly  \n",
    "                                n_samples=22017, # to match majority class        \n",
    "                                random_state=10) # reproducible results\n",
    "\n",
    "# Combine majority class with upsampled minority class\n",
    "df_upsampled19 = pd.concat([df_majority, df_minority_upsampled])\n",
    "\n",
    "# Display new class counts\n",
    "df_upsampled19.Cloud_Condition.value_counts()"
   ]
  },
  {
   "cell_type": "code",
   "execution_count": 83,
   "metadata": {},
   "outputs": [
    {
     "data": {
      "text/plain": [
       "14    22017\n",
       "10       14\n",
       "Name: Cloud_Condition, dtype: int64"
      ]
     },
     "execution_count": 83,
     "metadata": {},
     "output_type": "execute_result"
    }
   ],
   "source": [
    "# Separate majority and minority classes\n",
    "\n",
    "df_majority = cloud_data[cloud_data.Cloud_Condition==10]\n",
    "df_minority = cloud_data[(cloud_data.Cloud_Condition==14)]\n",
    "\n",
    "# Upsample minority class\n",
    "df_minority_upsampled = resample(df_minority,  ## on data we have to sample         \n",
    "                                replace=True, # sample with replacement reandomly  \n",
    "                                n_samples=22017, # to match majority class        \n",
    "                                random_state=10) # reproducible results\n",
    "\n",
    "# Combine majority class with upsampled minority class\n",
    "df_upsampled20 = pd.concat([df_majority, df_minority_upsampled])\n",
    "\n",
    "# Display new class counts\n",
    "df_upsampled20.Cloud_Condition.value_counts()"
   ]
  },
  {
   "cell_type": "code",
   "execution_count": 84,
   "metadata": {},
   "outputs": [
    {
     "data": {
      "text/plain": [
       "8     22017\n",
       "14        5\n",
       "Name: Cloud_Condition, dtype: int64"
      ]
     },
     "execution_count": 84,
     "metadata": {},
     "output_type": "execute_result"
    }
   ],
   "source": [
    "# Separate majority and minority classes\n",
    "\n",
    "df_majority = cloud_data[cloud_data.Cloud_Condition==14]\n",
    "df_minority = cloud_data[(cloud_data.Cloud_Condition==8)]\n",
    "\n",
    "# Upsample minority class\n",
    "df_minority_upsampled = resample(df_minority,  ## on data we have to sample         \n",
    "                                replace=True, # sample with replacement reandomly  \n",
    "                                n_samples=22017, # to match majority class        \n",
    "                                random_state=10) # reproducible results\n",
    "\n",
    "# Combine majority class with upsampled minority class\n",
    "df_upsampled21 = pd.concat([df_majority, df_minority_upsampled])\n",
    "\n",
    "# Display new class counts\n",
    "df_upsampled21.Cloud_Condition.value_counts()"
   ]
  },
  {
   "cell_type": "code",
   "execution_count": 85,
   "metadata": {},
   "outputs": [
    {
     "data": {
      "text/plain": [
       "20    22017\n",
       "8         5\n",
       "Name: Cloud_Condition, dtype: int64"
      ]
     },
     "execution_count": 85,
     "metadata": {},
     "output_type": "execute_result"
    }
   ],
   "source": [
    "# Separate majority and minority classes\n",
    "\n",
    "df_majority = cloud_data[cloud_data.Cloud_Condition==8]\n",
    "df_minority = cloud_data[(cloud_data.Cloud_Condition==20)]\n",
    "\n",
    "# Upsample minority class\n",
    "df_minority_upsampled = resample(df_minority,  ## on data we have to sample         \n",
    "                                replace=True, # sample with replacement reandomly  \n",
    "                                n_samples=22017, # to match majority class        \n",
    "                                random_state=10) # reproducible results\n",
    "\n",
    "# Combine majority class with upsampled minority class\n",
    "df_upsampled22 = pd.concat([df_majority, df_minority_upsampled])\n",
    "\n",
    "# Display new class counts\n",
    "df_upsampled22.Cloud_Condition.value_counts()"
   ]
  },
  {
   "cell_type": "code",
   "execution_count": 86,
   "metadata": {},
   "outputs": [
    {
     "data": {
      "text/plain": [
       "22    22017\n",
       "20        5\n",
       "Name: Cloud_Condition, dtype: int64"
      ]
     },
     "execution_count": 86,
     "metadata": {},
     "output_type": "execute_result"
    }
   ],
   "source": [
    "# Separate majority and minority classes\n",
    "\n",
    "df_majority = cloud_data[cloud_data.Cloud_Condition==20]\n",
    "df_minority = cloud_data[(cloud_data.Cloud_Condition==22)]\n",
    "\n",
    "# Upsample minority class\n",
    "df_minority_upsampled = resample(df_minority,  ## on data we have to sample         \n",
    "                                replace=True, # sample with replacement reandomly  \n",
    "                                n_samples=22017, # to match majority class        \n",
    "                                random_state=10) # reproducible results\n",
    "\n",
    "# Combine majority class with upsampled minority class\n",
    "df_upsampled23 = pd.concat([df_majority, df_minority_upsampled])\n",
    "\n",
    "# Display new class counts\n",
    "df_upsampled23.Cloud_Condition.value_counts()"
   ]
  },
  {
   "cell_type": "code",
   "execution_count": 91,
   "metadata": {},
   "outputs": [
    {
     "data": {
      "text/plain": [
       "7     22017\n",
       "22        3\n",
       "Name: Cloud_Condition, dtype: int64"
      ]
     },
     "execution_count": 91,
     "metadata": {},
     "output_type": "execute_result"
    }
   ],
   "source": [
    "# Separate majority and minority classes\n",
    "\n",
    "df_majority = cloud_data[cloud_data.Cloud_Condition==22]\n",
    "df_minority = cloud_data[(cloud_data.Cloud_Condition==7)]\n",
    "\n",
    "# Upsample minority class\n",
    "df_minority_upsampled = resample(df_minority,  ## on data we have to sample         \n",
    "                                replace=True, # sample with replacement reandomly  \n",
    "                                n_samples=22017, # to match majority class        \n",
    "                                random_state=10) # reproducible results\n",
    "\n",
    "# Combine majority class with upsampled minority class\n",
    "df_upsampled24 = pd.concat([df_majority, df_minority_upsampled])\n",
    "\n",
    "# Display new class counts\n",
    "df_upsampled24.Cloud_Condition.value_counts()"
   ]
  },
  {
   "cell_type": "code",
   "execution_count": 92,
   "metadata": {},
   "outputs": [],
   "source": [
    "cloud_data_upsampled = pd.concat([df_upsampled1,df_upsampled2,df_upsampled3,df_upsampled4,df_upsampled5,df_upsampled6,df_upsampled7,\n",
    "                         df_upsampled8,df_upsampled9,df_upsampled10,df_upsampled11,df_upsampled12,df_upsampled13,df_upsampled14,df_upsampled15,\n",
    "                         df_upsampled16,df_upsampled17,df_upsampled18,df_upsampled19,df_upsampled20,df_upsampled21,\n",
    "                         df_upsampled22,df_upsampled23,df_upsampled24])"
   ]
  },
  {
   "cell_type": "code",
   "execution_count": 93,
   "metadata": {},
   "outputs": [
    {
     "data": {
      "text/plain": [
       "19    39630\n",
       "18    35629\n",
       "6     31736\n",
       "12    27917\n",
       "1     22673\n",
       "3     22490\n",
       "4     22471\n",
       "5     22367\n",
       "16    22231\n",
       "11    22103\n",
       "25    22080\n",
       "0     22062\n",
       "24    22060\n",
       "9     22051\n",
       "2     22051\n",
       "13    22049\n",
       "23    22049\n",
       "15    22034\n",
       "10    22031\n",
       "14    22022\n",
       "8     22022\n",
       "20    22022\n",
       "22    22020\n",
       "7     22017\n",
       "17    22017\n",
       "Name: Cloud_Condition, dtype: int64"
      ]
     },
     "execution_count": 93,
     "metadata": {},
     "output_type": "execute_result"
    }
   ],
   "source": [
    "cloud_data_upsampled.Cloud_Condition.value_counts()"
   ]
  },
  {
   "cell_type": "code",
   "execution_count": 94,
   "metadata": {},
   "outputs": [],
   "source": [
    "X = df_upsampled.iloc[:,:-1]\n",
    "Y = df_upsampled.iloc[:,-1]"
   ]
  },
  {
   "cell_type": "code",
   "execution_count": 95,
   "metadata": {},
   "outputs": [],
   "source": [
    "from sklearn.model_selection import train_test_split\n",
    "X_train,X_test,Y_train,Y_test = train_test_split(X,Y,test_size = 0.3,random_state = 10)"
   ]
  },
  {
   "cell_type": "markdown",
   "metadata": {},
   "source": [
    "# Decision Tree"
   ]
  },
  {
   "cell_type": "code",
   "execution_count": 96,
   "metadata": {},
   "outputs": [],
   "source": [
    "#predicting using the Decision_Tree_Classifier\n",
    "from sklearn.tree import DecisionTreeClassifier\n",
    "\n",
    "model_DecisionTree=DecisionTreeClassifier(random_state=10)\n",
    "\n",
    "#fit the model on the data and predict the values\n",
    "model_DecisionTree.fit(X_train,Y_train)\n",
    "Y_pred=model_DecisionTree.predict(X_test)"
   ]
  },
  {
   "cell_type": "code",
   "execution_count": 97,
   "metadata": {},
   "outputs": [
    {
     "name": "stdout",
     "output_type": "stream",
     "text": [
      "[[3913 2749]\n",
      " [1580 4969]]\n",
      "Classification report: \n",
      "              precision    recall  f1-score   support\n",
      "\n",
      "          17       0.71      0.59      0.64      6662\n",
      "          19       0.64      0.76      0.70      6549\n",
      "\n",
      "    accuracy                           0.67     13211\n",
      "   macro avg       0.68      0.67      0.67     13211\n",
      "weighted avg       0.68      0.67      0.67     13211\n",
      "\n",
      "Accuracy of the model:  0.6723185224434184\n"
     ]
    }
   ],
   "source": [
    "from sklearn.metrics import confusion_matrix, accuracy_score, classification_report\n",
    "\n",
    "cfm=confusion_matrix(Y_test,Y_pred)\n",
    "print(cfm)\n",
    "\n",
    "print(\"Classification report: \")\n",
    "\n",
    "print(classification_report(Y_test,Y_pred))\n",
    "\n",
    "acc=accuracy_score(Y_test, Y_pred)\n",
    "print(\"Accuracy of the model: \",acc)\n"
   ]
  },
  {
   "cell_type": "markdown",
   "metadata": {},
   "source": [
    "# Random Forest"
   ]
  },
  {
   "cell_type": "code",
   "execution_count": 98,
   "metadata": {},
   "outputs": [],
   "source": [
    "#predicting using the Random_Forest_Classifier\n",
    "from sklearn.ensemble import RandomForestClassifier\n",
    "\n",
    "model_RandomForest=RandomForestClassifier(n_estimators=100,random_state=10)\n",
    "\n",
    "#fit the model on the data and predict the values\n",
    "model_RandomForest.fit(X_train,Y_train)\n",
    "\n",
    "Y_pred=model_RandomForest.predict(X_test)\n"
   ]
  },
  {
   "cell_type": "code",
   "execution_count": 99,
   "metadata": {},
   "outputs": [
    {
     "name": "stdout",
     "output_type": "stream",
     "text": [
      "[[5371 1291]\n",
      " [2114 4435]]\n",
      "Classification report: \n",
      "              precision    recall  f1-score   support\n",
      "\n",
      "          17       0.72      0.81      0.76      6662\n",
      "          19       0.77      0.68      0.72      6549\n",
      "\n",
      "    accuracy                           0.74     13211\n",
      "   macro avg       0.75      0.74      0.74     13211\n",
      "weighted avg       0.75      0.74      0.74     13211\n",
      "\n",
      "Accuracy of the model:  0.7422602376807206\n"
     ]
    }
   ],
   "source": [
    "from sklearn.metrics import confusion_matrix, accuracy_score,classification_report\n",
    "\n",
    "cfm=confusion_matrix(Y_test,Y_pred)\n",
    "print(cfm)\n",
    "\n",
    "print(\"Classification report: \")\n",
    "\n",
    "print(classification_report(Y_test,Y_pred))\n",
    "\n",
    "acc=accuracy_score(Y_test, Y_pred)\n",
    "print(\"Accuracy of the model: \",acc)\n"
   ]
  },
  {
   "cell_type": "code",
   "execution_count": 100,
   "metadata": {},
   "outputs": [
    {
     "data": {
      "text/html": [
       "<div>\n",
       "<style scoped>\n",
       "    .dataframe tbody tr th:only-of-type {\n",
       "        vertical-align: middle;\n",
       "    }\n",
       "\n",
       "    .dataframe tbody tr th {\n",
       "        vertical-align: top;\n",
       "    }\n",
       "\n",
       "    .dataframe thead th {\n",
       "        text-align: right;\n",
       "    }\n",
       "</style>\n",
       "<table border=\"1\" class=\"dataframe\">\n",
       "  <thead>\n",
       "    <tr style=\"text-align: right;\">\n",
       "      <th></th>\n",
       "      <th>Rain_OR_SNOW</th>\n",
       "      <th>Temperature (C)</th>\n",
       "      <th>Apparent Temperature (C)</th>\n",
       "      <th>Humidity</th>\n",
       "      <th>Wind Speed (km/h)</th>\n",
       "      <th>Wind Bearing (degrees)</th>\n",
       "      <th>Visibility (km)</th>\n",
       "      <th>Pressure (millibars)</th>\n",
       "      <th>Condensation</th>\n",
       "      <th>Solar irradiance intensity</th>\n",
       "    </tr>\n",
       "    <tr>\n",
       "      <th>Day</th>\n",
       "      <th></th>\n",
       "      <th></th>\n",
       "      <th></th>\n",
       "      <th></th>\n",
       "      <th></th>\n",
       "      <th></th>\n",
       "      <th></th>\n",
       "      <th></th>\n",
       "      <th></th>\n",
       "      <th></th>\n",
       "    </tr>\n",
       "  </thead>\n",
       "  <tbody>\n",
       "    <tr>\n",
       "      <th>80002</th>\n",
       "      <td>rain</td>\n",
       "      <td>1.0</td>\n",
       "      <td>0.0</td>\n",
       "      <td>0.078150</td>\n",
       "      <td>17.0</td>\n",
       "      <td>300</td>\n",
       "      <td>10.0</td>\n",
       "      <td>1029.0</td>\n",
       "      <td>Fog</td>\n",
       "      <td>1399</td>\n",
       "    </tr>\n",
       "    <tr>\n",
       "      <th>80003</th>\n",
       "      <td>rain</td>\n",
       "      <td>-3.0</td>\n",
       "      <td>25.0</td>\n",
       "      <td>0.653251</td>\n",
       "      <td>25.0</td>\n",
       "      <td>322</td>\n",
       "      <td>0.0</td>\n",
       "      <td>1009.0</td>\n",
       "      <td>Dry</td>\n",
       "      <td>1468</td>\n",
       "    </tr>\n",
       "    <tr>\n",
       "      <th>80004</th>\n",
       "      <td>rain</td>\n",
       "      <td>18.0</td>\n",
       "      <td>17.0</td>\n",
       "      <td>0.930970</td>\n",
       "      <td>37.0</td>\n",
       "      <td>330</td>\n",
       "      <td>12.0</td>\n",
       "      <td>1045.0</td>\n",
       "      <td>Dry</td>\n",
       "      <td>1152</td>\n",
       "    </tr>\n",
       "    <tr>\n",
       "      <th>80005</th>\n",
       "      <td>rain</td>\n",
       "      <td>33.0</td>\n",
       "      <td>-12.0</td>\n",
       "      <td>0.778844</td>\n",
       "      <td>50.0</td>\n",
       "      <td>350</td>\n",
       "      <td>3.0</td>\n",
       "      <td>1022.0</td>\n",
       "      <td>Fog</td>\n",
       "      <td>1003</td>\n",
       "    </tr>\n",
       "    <tr>\n",
       "      <th>80006</th>\n",
       "      <td>rain</td>\n",
       "      <td>25.0</td>\n",
       "      <td>-19.0</td>\n",
       "      <td>0.491523</td>\n",
       "      <td>62.0</td>\n",
       "      <td>300</td>\n",
       "      <td>12.0</td>\n",
       "      <td>1042.0</td>\n",
       "      <td>Fog</td>\n",
       "      <td>1228</td>\n",
       "    </tr>\n",
       "  </tbody>\n",
       "</table>\n",
       "</div>"
      ],
      "text/plain": [
       "      Rain_OR_SNOW  Temperature (C)  Apparent Temperature (C)  Humidity  \\\n",
       "Day                                                                       \n",
       "80002         rain              1.0                       0.0  0.078150   \n",
       "80003         rain             -3.0                      25.0  0.653251   \n",
       "80004         rain             18.0                      17.0  0.930970   \n",
       "80005         rain             33.0                     -12.0  0.778844   \n",
       "80006         rain             25.0                     -19.0  0.491523   \n",
       "\n",
       "       Wind Speed (km/h)  Wind Bearing (degrees)  Visibility (km)  \\\n",
       "Day                                                                 \n",
       "80002               17.0                     300             10.0   \n",
       "80003               25.0                     322              0.0   \n",
       "80004               37.0                     330             12.0   \n",
       "80005               50.0                     350              3.0   \n",
       "80006               62.0                     300             12.0   \n",
       "\n",
       "       Pressure (millibars) Condensation  Solar irradiance intensity  \n",
       "Day                                                                   \n",
       "80002                1029.0          Fog                        1399  \n",
       "80003                1009.0          Dry                        1468  \n",
       "80004                1045.0          Dry                        1152  \n",
       "80005                1022.0          Fog                        1003  \n",
       "80006                1042.0          Fog                        1228  "
      ]
     },
     "execution_count": 100,
     "metadata": {},
     "output_type": "execute_result"
    }
   ],
   "source": [
    "cloud_data_test = pd.read_csv(r'C:\\Users\\Soni Mrunali\\Desktop\\data_analytics\\Python\\imarticus_online_data\\Hackathon\\test_CloudCondition.csv',\n",
    "                              index_col = 0,header = 0)\n",
    "cloud_data_test.head()"
   ]
  },
  {
   "cell_type": "code",
   "execution_count": 101,
   "metadata": {},
   "outputs": [
    {
     "data": {
      "text/plain": [
       "Rain_OR_SNOW                  0\n",
       "Temperature (C)               0\n",
       "Apparent Temperature (C)      0\n",
       "Humidity                      0\n",
       "Wind Speed (km/h)             0\n",
       "Wind Bearing (degrees)        0\n",
       "Visibility (km)               0\n",
       "Pressure (millibars)          0\n",
       "Condensation                  0\n",
       "Solar irradiance intensity    0\n",
       "dtype: int64"
      ]
     },
     "execution_count": 101,
     "metadata": {},
     "output_type": "execute_result"
    }
   ],
   "source": [
    "cloud_data_test.isnull().sum()"
   ]
  },
  {
   "cell_type": "code",
   "execution_count": 102,
   "metadata": {},
   "outputs": [
    {
     "data": {
      "text/plain": [
       "Rain_OR_SNOW                   object\n",
       "Temperature (C)               float64\n",
       "Apparent Temperature (C)      float64\n",
       "Humidity                      float64\n",
       "Wind Speed (km/h)             float64\n",
       "Wind Bearing (degrees)          int64\n",
       "Visibility (km)               float64\n",
       "Pressure (millibars)          float64\n",
       "Condensation                   object\n",
       "Solar irradiance intensity      int64\n",
       "dtype: object"
      ]
     },
     "execution_count": 102,
     "metadata": {},
     "output_type": "execute_result"
    }
   ],
   "source": [
    "cloud_data_test.dtypes"
   ]
  },
  {
   "cell_type": "code",
   "execution_count": 103,
   "metadata": {},
   "outputs": [],
   "source": [
    "from sklearn.preprocessing import LabelEncoder\n",
    "le = LabelEncoder()\n",
    "cloud_data_test['Rain_OR_SNOW'] = le.fit_transform(cloud_data_test['Rain_OR_SNOW'])"
   ]
  },
  {
   "cell_type": "code",
   "execution_count": 104,
   "metadata": {},
   "outputs": [],
   "source": [
    "cloud_data_test['Condensation'] = le.fit_transform(cloud_data_test['Condensation'])"
   ]
  },
  {
   "cell_type": "code",
   "execution_count": 105,
   "metadata": {},
   "outputs": [
    {
     "data": {
      "text/html": [
       "<div>\n",
       "<style scoped>\n",
       "    .dataframe tbody tr th:only-of-type {\n",
       "        vertical-align: middle;\n",
       "    }\n",
       "\n",
       "    .dataframe tbody tr th {\n",
       "        vertical-align: top;\n",
       "    }\n",
       "\n",
       "    .dataframe thead th {\n",
       "        text-align: right;\n",
       "    }\n",
       "</style>\n",
       "<table border=\"1\" class=\"dataframe\">\n",
       "  <thead>\n",
       "    <tr style=\"text-align: right;\">\n",
       "      <th></th>\n",
       "      <th>Rain_OR_SNOW</th>\n",
       "      <th>Temperature (C)</th>\n",
       "      <th>Apparent Temperature (C)</th>\n",
       "      <th>Humidity</th>\n",
       "      <th>Wind Speed (km/h)</th>\n",
       "      <th>Wind Bearing (degrees)</th>\n",
       "      <th>Visibility (km)</th>\n",
       "      <th>Pressure (millibars)</th>\n",
       "      <th>Condensation</th>\n",
       "      <th>Solar irradiance intensity</th>\n",
       "    </tr>\n",
       "    <tr>\n",
       "      <th>Day</th>\n",
       "      <th></th>\n",
       "      <th></th>\n",
       "      <th></th>\n",
       "      <th></th>\n",
       "      <th></th>\n",
       "      <th></th>\n",
       "      <th></th>\n",
       "      <th></th>\n",
       "      <th></th>\n",
       "      <th></th>\n",
       "    </tr>\n",
       "  </thead>\n",
       "  <tbody>\n",
       "    <tr>\n",
       "      <th>80002</th>\n",
       "      <td>0</td>\n",
       "      <td>1.0</td>\n",
       "      <td>0.0</td>\n",
       "      <td>0.078150</td>\n",
       "      <td>17.0</td>\n",
       "      <td>300</td>\n",
       "      <td>10.0</td>\n",
       "      <td>1029.0</td>\n",
       "      <td>1</td>\n",
       "      <td>1399</td>\n",
       "    </tr>\n",
       "    <tr>\n",
       "      <th>80003</th>\n",
       "      <td>0</td>\n",
       "      <td>-3.0</td>\n",
       "      <td>25.0</td>\n",
       "      <td>0.653251</td>\n",
       "      <td>25.0</td>\n",
       "      <td>322</td>\n",
       "      <td>0.0</td>\n",
       "      <td>1009.0</td>\n",
       "      <td>0</td>\n",
       "      <td>1468</td>\n",
       "    </tr>\n",
       "    <tr>\n",
       "      <th>80004</th>\n",
       "      <td>0</td>\n",
       "      <td>18.0</td>\n",
       "      <td>17.0</td>\n",
       "      <td>0.930970</td>\n",
       "      <td>37.0</td>\n",
       "      <td>330</td>\n",
       "      <td>12.0</td>\n",
       "      <td>1045.0</td>\n",
       "      <td>0</td>\n",
       "      <td>1152</td>\n",
       "    </tr>\n",
       "    <tr>\n",
       "      <th>80005</th>\n",
       "      <td>0</td>\n",
       "      <td>33.0</td>\n",
       "      <td>-12.0</td>\n",
       "      <td>0.778844</td>\n",
       "      <td>50.0</td>\n",
       "      <td>350</td>\n",
       "      <td>3.0</td>\n",
       "      <td>1022.0</td>\n",
       "      <td>1</td>\n",
       "      <td>1003</td>\n",
       "    </tr>\n",
       "    <tr>\n",
       "      <th>80006</th>\n",
       "      <td>0</td>\n",
       "      <td>25.0</td>\n",
       "      <td>-19.0</td>\n",
       "      <td>0.491523</td>\n",
       "      <td>62.0</td>\n",
       "      <td>300</td>\n",
       "      <td>12.0</td>\n",
       "      <td>1042.0</td>\n",
       "      <td>1</td>\n",
       "      <td>1228</td>\n",
       "    </tr>\n",
       "  </tbody>\n",
       "</table>\n",
       "</div>"
      ],
      "text/plain": [
       "       Rain_OR_SNOW  Temperature (C)  Apparent Temperature (C)  Humidity  \\\n",
       "Day                                                                        \n",
       "80002             0              1.0                       0.0  0.078150   \n",
       "80003             0             -3.0                      25.0  0.653251   \n",
       "80004             0             18.0                      17.0  0.930970   \n",
       "80005             0             33.0                     -12.0  0.778844   \n",
       "80006             0             25.0                     -19.0  0.491523   \n",
       "\n",
       "       Wind Speed (km/h)  Wind Bearing (degrees)  Visibility (km)  \\\n",
       "Day                                                                 \n",
       "80002               17.0                     300             10.0   \n",
       "80003               25.0                     322              0.0   \n",
       "80004               37.0                     330             12.0   \n",
       "80005               50.0                     350              3.0   \n",
       "80006               62.0                     300             12.0   \n",
       "\n",
       "       Pressure (millibars)  Condensation  Solar irradiance intensity  \n",
       "Day                                                                    \n",
       "80002                1029.0             1                        1399  \n",
       "80003                1009.0             0                        1468  \n",
       "80004                1045.0             0                        1152  \n",
       "80005                1022.0             1                        1003  \n",
       "80006                1042.0             1                        1228  "
      ]
     },
     "execution_count": 105,
     "metadata": {},
     "output_type": "execute_result"
    }
   ],
   "source": [
    "cloud_data_test.head()"
   ]
  },
  {
   "cell_type": "code",
   "execution_count": 106,
   "metadata": {},
   "outputs": [],
   "source": [
    "X_test_new = cloud_data_test"
   ]
  },
  {
   "cell_type": "code",
   "execution_count": 107,
   "metadata": {},
   "outputs": [],
   "source": [
    "X_test_new = scaler.transform(X_test_new)"
   ]
  },
  {
   "cell_type": "code",
   "execution_count": 108,
   "metadata": {},
   "outputs": [],
   "source": [
    "Y_pred = model_RandomForest.predict(X_test_new)"
   ]
  },
  {
   "cell_type": "code",
   "execution_count": 124,
   "metadata": {
    "scrolled": true
   },
   "outputs": [
    {
     "data": {
      "text/html": [
       "<div>\n",
       "<style scoped>\n",
       "    .dataframe tbody tr th:only-of-type {\n",
       "        vertical-align: middle;\n",
       "    }\n",
       "\n",
       "    .dataframe tbody tr th {\n",
       "        vertical-align: top;\n",
       "    }\n",
       "\n",
       "    .dataframe thead th {\n",
       "        text-align: right;\n",
       "    }\n",
       "</style>\n",
       "<table border=\"1\" class=\"dataframe\">\n",
       "  <thead>\n",
       "    <tr style=\"text-align: right;\">\n",
       "      <th></th>\n",
       "      <th>Day</th>\n",
       "      <th>Cloud_Condition</th>\n",
       "    </tr>\n",
       "  </thead>\n",
       "  <tbody>\n",
       "    <tr>\n",
       "      <th>0</th>\n",
       "      <td>80002</td>\n",
       "      <td>17</td>\n",
       "    </tr>\n",
       "    <tr>\n",
       "      <th>1</th>\n",
       "      <td>80003</td>\n",
       "      <td>17</td>\n",
       "    </tr>\n",
       "    <tr>\n",
       "      <th>2</th>\n",
       "      <td>80004</td>\n",
       "      <td>17</td>\n",
       "    </tr>\n",
       "    <tr>\n",
       "      <th>3</th>\n",
       "      <td>80005</td>\n",
       "      <td>17</td>\n",
       "    </tr>\n",
       "    <tr>\n",
       "      <th>4</th>\n",
       "      <td>80006</td>\n",
       "      <td>17</td>\n",
       "    </tr>\n",
       "  </tbody>\n",
       "</table>\n",
       "</div>"
      ],
      "text/plain": [
       "     Day  Cloud_Condition\n",
       "0  80002               17\n",
       "1  80003               17\n",
       "2  80004               17\n",
       "3  80005               17\n",
       "4  80006               17"
      ]
     },
     "execution_count": 124,
     "metadata": {},
     "output_type": "execute_result"
    }
   ],
   "source": [
    "test_data = pd.read_csv(r'C:\\Users\\Soni Mrunali\\Desktop\\data_analytics\\Python\\imarticus_online_data\\Hackathon\\test_cloudcondition.csv',usecols = ['Day'])\n",
    "test_data['Cloud_Condition'] = Y_pred\n",
    "test_data.head()"
   ]
  },
  {
   "cell_type": "code",
   "execution_count": 125,
   "metadata": {},
   "outputs": [],
   "source": [
    "test_data.Cloud_Condition = test_data.Cloud_Condition.map({0:'Breezy',1:'Breezy and Dry',2:'Breezy and Foggy',3:'Breezy and Mostly Cloudy',\n",
    "                                                          4:'Breezy and Overcast',5:'Breezy and Partly Cloudy',6:'Clear',7:'Dangerously Windy and Partly Cloudy',\n",
    "                                                          8:'Drizzle',9:'Dry',10:'Dry and Mostly Cloudy',11:'Dry and Partly Cloudy',12:'Foggy',13:'Humid and Mostly Cloudy',\n",
    "                                                          14:'Humid and Overcast',15:'Humid and Partly Cloudy',16:'Light Rain',17:'Mostly Cloudy',18:'Overcast',19:'Partly Cloudy',\n",
    "                                                          20:'Windy',21:'Windy and Dry',22:'Windy and Foggy',23:'Windy and Mostly Cloudy',24:'Windy and Overcast',25:'Windy and Partly Cloudy'})"
   ]
  },
  {
   "cell_type": "code",
   "execution_count": 126,
   "metadata": {},
   "outputs": [],
   "source": [
    "test_data.to_csv(r'Cloud_Conditions.csv')"
   ]
  },
  {
   "cell_type": "code",
   "execution_count": null,
   "metadata": {},
   "outputs": [],
   "source": []
  }
 ],
 "metadata": {
  "kernelspec": {
   "display_name": "Python 3",
   "language": "python",
   "name": "python3"
  },
  "language_info": {
   "codemirror_mode": {
    "name": "ipython",
    "version": 3
   },
   "file_extension": ".py",
   "mimetype": "text/x-python",
   "name": "python",
   "nbconvert_exporter": "python",
   "pygments_lexer": "ipython3",
   "version": "3.8.3"
  }
 },
 "nbformat": 4,
 "nbformat_minor": 4
}
